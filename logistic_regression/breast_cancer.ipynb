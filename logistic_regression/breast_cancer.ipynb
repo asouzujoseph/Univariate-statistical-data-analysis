{
 "cells": [
  {
   "cell_type": "markdown",
   "metadata": {},
   "source": [
    "# Logistic regression"
   ]
  },
  {
   "cell_type": "markdown",
   "metadata": {},
   "source": [
    "The data is obtained from a case-control study assessing several plasma risk factors for breast cancer.<br>\n",
    "\n",
    "The dataset contains following variables: <br>\n",
    "**ID**&nbsp;&nbsp;&nbsp;&nbsp;Identification Code<br>\n",
    "**matchid**&nbsp;&nbsp;&nbsp;&nbsp;Matched ID<br>\n",
    "**case**&nbsp;&nbsp;&nbsp;&nbsp;Case (1) / Control (0)<br>\n",
    "**curpmh**&nbsp;&nbsp;&nbsp;&nbsp;Current PMH use – yes(1) / no(0)<br>\n",
    "**ageblood**&nbsp;&nbsp;&nbsp;&nbsp;Age at blood drawn<br>\n",
    "**estradol**&nbsp;&nbsp;&nbsp;&nbsp;Estradiol concentration<br>\n",
    "**estrone**&nbsp;&nbsp;&nbsp;&nbsp;Estrone concentration (missing value: 999)<br>\n",
    "**testost**&nbsp;&nbsp;&nbsp;&nbsp;Testosterone concentration (missing value: 999)<br>\n",
    "**prolactn**&nbsp;&nbsp;&nbsp;&nbsp;Prolactine concentration (missing value: 99.99)<br>\n",
    "\n",
    "**Task**<br>\n",
    "Perform simple logistic regression to assess the association between testosterone and breast cancer risk.\n",
    "- Calculate and interpret the Odds Ratio.\n",
    "- Calculate the “deviance” of the model and interpret.\n",
    "- Create the ROC curve, the AUC and interpret.\n",
    "\n",
    "Use testosterone level and age as predictors of breast cancer. Is this multiple logistic regression model better than the simple one?"
   ]
  },
  {
   "cell_type": "code",
   "execution_count": 1,
   "metadata": {},
   "outputs": [],
   "source": [
    "blood_test <- read.table(file=\"/mnt/c/Users/Nnamdi/Desktop/Bioinformatics/Univariate_data_modelling/Exercises/DATASETS/BLOOD.txt\", header  = T, sep=\",\")"
   ]
  },
  {
   "cell_type": "code",
   "execution_count": 2,
   "metadata": {},
   "outputs": [
    {
     "data": {
      "text/html": [
       "<table class=\"dataframe\">\n",
       "<caption>A data.frame: 6 × 9</caption>\n",
       "<thead>\n",
       "\t<tr><th></th><th scope=col>ID</th><th scope=col>matchid</th><th scope=col>case</th><th scope=col>curpmh</th><th scope=col>age</th><th scope=col>estradol</th><th scope=col>estrone</th><th scope=col>testost</th><th scope=col>prolactn</th></tr>\n",
       "\t<tr><th></th><th scope=col>&lt;int&gt;</th><th scope=col>&lt;int&gt;</th><th scope=col>&lt;int&gt;</th><th scope=col>&lt;int&gt;</th><th scope=col>&lt;int&gt;</th><th scope=col>&lt;int&gt;</th><th scope=col>&lt;int&gt;</th><th scope=col>&lt;int&gt;</th><th scope=col>&lt;dbl&gt;</th></tr>\n",
       "</thead>\n",
       "<tbody>\n",
       "\t<tr><th scope=row>1</th><td>100013</td><td>164594</td><td>0</td><td>1</td><td>46</td><td>57</td><td> 65</td><td> 25</td><td>11.12</td></tr>\n",
       "\t<tr><th scope=row>2</th><td>100241</td><td>107261</td><td>0</td><td>0</td><td>65</td><td>11</td><td> 26</td><td>999</td><td> 2.80</td></tr>\n",
       "\t<tr><th scope=row>3</th><td>100696</td><td>110294</td><td>0</td><td>1</td><td>66</td><td> 3</td><td>999</td><td>  8</td><td>38.00</td></tr>\n",
       "\t<tr><th scope=row>4</th><td>101266</td><td>101266</td><td>1</td><td>0</td><td>57</td><td> 4</td><td> 18</td><td>  6</td><td> 8.90</td></tr>\n",
       "\t<tr><th scope=row>5</th><td>101600</td><td>101600</td><td>1</td><td>0</td><td>66</td><td> 6</td><td> 18</td><td> 25</td><td> 6.90</td></tr>\n",
       "\t<tr><th scope=row>6</th><td>102228</td><td>155717</td><td>0</td><td>1</td><td>57</td><td>10</td><td>999</td><td> 31</td><td>13.94</td></tr>\n",
       "</tbody>\n",
       "</table>\n"
      ],
      "text/latex": [
       "A data.frame: 6 × 9\n",
       "\\begin{tabular}{r|lllllllll}\n",
       "  & ID & matchid & case & curpmh & age & estradol & estrone & testost & prolactn\\\\\n",
       "  & <int> & <int> & <int> & <int> & <int> & <int> & <int> & <int> & <dbl>\\\\\n",
       "\\hline\n",
       "\t1 & 100013 & 164594 & 0 & 1 & 46 & 57 &  65 &  25 & 11.12\\\\\n",
       "\t2 & 100241 & 107261 & 0 & 0 & 65 & 11 &  26 & 999 &  2.80\\\\\n",
       "\t3 & 100696 & 110294 & 0 & 1 & 66 &  3 & 999 &   8 & 38.00\\\\\n",
       "\t4 & 101266 & 101266 & 1 & 0 & 57 &  4 &  18 &   6 &  8.90\\\\\n",
       "\t5 & 101600 & 101600 & 1 & 0 & 66 &  6 &  18 &  25 &  6.90\\\\\n",
       "\t6 & 102228 & 155717 & 0 & 1 & 57 & 10 & 999 &  31 & 13.94\\\\\n",
       "\\end{tabular}\n"
      ],
      "text/markdown": [
       "\n",
       "A data.frame: 6 × 9\n",
       "\n",
       "| <!--/--> | ID &lt;int&gt; | matchid &lt;int&gt; | case &lt;int&gt; | curpmh &lt;int&gt; | age &lt;int&gt; | estradol &lt;int&gt; | estrone &lt;int&gt; | testost &lt;int&gt; | prolactn &lt;dbl&gt; |\n",
       "|---|---|---|---|---|---|---|---|---|---|\n",
       "| 1 | 100013 | 164594 | 0 | 1 | 46 | 57 |  65 |  25 | 11.12 |\n",
       "| 2 | 100241 | 107261 | 0 | 0 | 65 | 11 |  26 | 999 |  2.80 |\n",
       "| 3 | 100696 | 110294 | 0 | 1 | 66 |  3 | 999 |   8 | 38.00 |\n",
       "| 4 | 101266 | 101266 | 1 | 0 | 57 |  4 |  18 |   6 |  8.90 |\n",
       "| 5 | 101600 | 101600 | 1 | 0 | 66 |  6 |  18 |  25 |  6.90 |\n",
       "| 6 | 102228 | 155717 | 0 | 1 | 57 | 10 | 999 |  31 | 13.94 |\n",
       "\n"
      ],
      "text/plain": [
       "  ID     matchid case curpmh age estradol estrone testost prolactn\n",
       "1 100013 164594  0    1      46  57        65      25     11.12   \n",
       "2 100241 107261  0    0      65  11        26     999      2.80   \n",
       "3 100696 110294  0    1      66   3       999       8     38.00   \n",
       "4 101266 101266  1    0      57   4        18       6      8.90   \n",
       "5 101600 101600  1    0      66   6        18      25      6.90   \n",
       "6 102228 155717  0    1      57  10       999      31     13.94   "
      ]
     },
     "metadata": {},
     "output_type": "display_data"
    }
   ],
   "source": [
    "head(blood_test)"
   ]
  },
  {
   "cell_type": "markdown",
   "metadata": {},
   "source": [
    "### Expolratory data analysis"
   ]
  },
  {
   "cell_type": "code",
   "execution_count": 3,
   "metadata": {},
   "outputs": [
    {
     "data": {
      "text/plain": [
       "       ID            matchid            case            curpmh     \n",
       " Min.   :100013   Min.   :100738   Min.   :0.0000   Min.   :0.000  \n",
       " 1st Qu.:149394   1st Qu.:146363   1st Qu.:0.0000   1st Qu.:0.000  \n",
       " Median :211040   Median :210114   Median :0.0000   Median :0.000  \n",
       " Mean   :220313   Mean   :219132   Mean   :0.3216   Mean   :0.151  \n",
       " 3rd Qu.:288886   3rd Qu.:287737   3rd Qu.:1.0000   3rd Qu.:0.000  \n",
       " Max.   :368046   Max.   :368046   Max.   :1.0000   Max.   :1.000  \n",
       "      age           estradol         estrone         testost     \n",
       " Min.   :45.00   Min.   : 2.000   Min.   : 10.0   Min.   :  4.0  \n",
       " 1st Qu.:57.00   1st Qu.: 5.000   1st Qu.: 21.0   1st Qu.: 17.0  \n",
       " Median :62.00   Median : 7.000   Median : 31.0   Median : 24.0  \n",
       " Mean   :60.97   Mean   : 8.908   Mean   :246.2   Mean   : 48.7  \n",
       " 3rd Qu.:65.00   3rd Qu.:10.750   3rd Qu.: 61.5   3rd Qu.: 32.0  \n",
       " Max.   :69.00   Max.   :85.000   Max.   :999.0   Max.   :999.0  \n",
       "    prolactn     \n",
       " Min.   : 1.960  \n",
       " 1st Qu.: 6.728  \n",
       " Median : 8.795  \n",
       " Mean   :14.020  \n",
       " 3rd Qu.:12.600  \n",
       " Max.   :99.990  "
      ]
     },
     "metadata": {},
     "output_type": "display_data"
    }
   ],
   "source": [
    "summary(blood_test)"
   ]
  },
  {
   "cell_type": "code",
   "execution_count": 4,
   "metadata": {},
   "outputs": [
    {
     "data": {
      "image/png": "[encoded data removed]",
      "text/plain": [
       "Plot with title “Histogram of blood_test$testost”"
      ]
     },
     "metadata": {
      "image/png": {
       "height": 420,
       "width": 420
      }
     },
     "output_type": "display_data"
    }
   ],
   "source": [
    "hist(blood_test$testost)"
   ]
  },
  {
   "cell_type": "code",
   "execution_count": 5,
   "metadata": {},
   "outputs": [
    {
     "data": {
      "text/plain": [
       "   Min. 1st Qu.  Median    Mean 3rd Qu.    Max. \n",
       "    4.0    17.0    23.0    25.8    31.0   144.0 "
      ]
     },
     "metadata": {},
     "output_type": "display_data"
    },
    {
     "data": {
      "image/png": "[encoded data removed]",
      "text/plain": [
       "Plot with title “Histogram of blood.df$testost”"
      ]
     },
     "metadata": {
      "image/png": {
       "height": 420,
       "width": 420
      }
     },
     "output_type": "display_data"
    }
   ],
   "source": [
    "# remove the missing data\n",
    "blood.df <- subset(blood_test, blood_test$testost!='999',)\n",
    "summary(blood.df$testost)\n",
    "hist(blood.df$testost)"
   ]
  },
  {
   "cell_type": "markdown",
   "metadata": {},
   "source": [
    "### Simple logistic regression"
   ]
  },
  {
   "cell_type": "code",
   "execution_count": 6,
   "metadata": {},
   "outputs": [],
   "source": [
    "blood.glm <- glm(case ~ testost, family = binomial(link=logit), data=blood.df)"
   ]
  },
  {
   "cell_type": "code",
   "execution_count": 7,
   "metadata": {},
   "outputs": [
    {
     "data": {
      "text/plain": [
       "\n",
       "Call:\n",
       "glm(formula = case ~ testost, family = binomial(link = logit), \n",
       "    data = blood.df)\n",
       "\n",
       "Deviance Residuals: \n",
       "    Min       1Q   Median       3Q      Max  \n",
       "-1.3647  -0.8744  -0.8297   1.4628   1.6334  \n",
       "\n",
       "Coefficients:\n",
       "             Estimate Std. Error z value Pr(>|z|)    \n",
       "(Intercept) -1.111712   0.203544  -5.462 4.71e-08 ***\n",
       "testost      0.013891   0.006769   2.052   0.0402 *  \n",
       "---\n",
       "Signif. codes:  0 ‘***’ 0.001 ‘**’ 0.01 ‘*’ 0.05 ‘.’ 0.1 ‘ ’ 1\n",
       "\n",
       "(Dispersion parameter for binomial family taken to be 1)\n",
       "\n",
       "    Null deviance: 625.32  on 497  degrees of freedom\n",
       "Residual deviance: 621.05  on 496  degrees of freedom\n",
       "AIC: 625.05\n",
       "\n",
       "Number of Fisher Scoring iterations: 4\n"
      ]
     },
     "metadata": {},
     "output_type": "display_data"
    }
   ],
   "source": [
    "summary(blood.glm)"
   ]
  },
  {
   "cell_type": "markdown",
   "metadata": {},
   "source": [
    "### Odds ratio"
   ]
  },
  {
   "cell_type": "code",
   "execution_count": 8,
   "metadata": {},
   "outputs": [
    {
     "data": {
      "text/html": [
       "1.0139879282305"
      ],
      "text/latex": [
       "1.0139879282305"
      ],
      "text/markdown": [
       "1.0139879282305"
      ],
      "text/plain": [
       "[1] 1.013988"
      ]
     },
     "metadata": {},
     "output_type": "display_data"
    }
   ],
   "source": [
    "exp(0.013891)"
   ]
  },
  {
   "cell_type": "markdown",
   "metadata": {},
   "source": [
    "The odds ratio is given as 1.0139879282305\n",
    "\n",
    "This implies that the odds of having breast cancer increase by 1.398% for each one unit increase in testosterone level"
   ]
  },
  {
   "cell_type": "markdown",
   "metadata": {},
   "source": [
    "### Model diagnostics - Deviance of the model"
   ]
  },
  {
   "cell_type": "code",
   "execution_count": 9,
   "metadata": {},
   "outputs": [
    {
     "data": {
      "text/html": [
       "0.00683168076743204"
      ],
      "text/latex": [
       "0.00683168076743204"
      ],
      "text/markdown": [
       "0.00683168076743204"
      ],
      "text/plain": [
       "[1] 0.006831681"
      ]
     },
     "metadata": {},
     "output_type": "display_data"
    }
   ],
   "source": [
    "# blood.glm$deviance\n",
    "# blood.glm$null.deviance\n",
    "dev <- (blood.glm$null.deviance - blood.glm$deviance)/blood.glm$null.deviance\n",
    "dev"
   ]
  },
  {
   "cell_type": "markdown",
   "metadata": {},
   "source": [
    "This value represents the proportion of deviance explained by this model. The model is a bad model since this value is very low."
   ]
  },
  {
   "cell_type": "markdown",
   "metadata": {},
   "source": [
    "### ROC curve "
   ]
  },
  {
   "cell_type": "code",
   "execution_count": 10,
   "metadata": {},
   "outputs": [],
   "source": [
    "library(\"ROCR\")\n",
    "predict <- fitted(blood.glm)\n",
    "pred <- prediction(predict, blood.df$case)\n",
    "perf <- performance(pred, measure = \"tpr\", x.measure = \"fpr\")\n",
    "plot(perf, main=\"sensitivity vs false positive rate\",colorize=TRUE)\n",
    "perf_auc <- performance(pred, measure = \"auc\")\n",
    "perf_auc"
   ]
  },
  {
   "attachments": {
    "testost.png": {
     "image/png": "[encoded data removed]"
    }
   },
   "cell_type": "markdown",
   "metadata": {},
   "source": [
    "![testost.png](attachment:testost.png)"
   ]
  },
  {
   "cell_type": "markdown",
   "metadata": {},
   "source": [
    "### Interpretation\n",
    "The area under the curve for the model is small which confirms that the model is not good at classication"
   ]
  },
  {
   "cell_type": "markdown",
   "metadata": {},
   "source": [
    "### Multiple logistic regression"
   ]
  },
  {
   "cell_type": "code",
   "execution_count": 12,
   "metadata": {},
   "outputs": [
    {
     "data": {
      "text/plain": [
       "\n",
       "Call:\n",
       "glm(formula = case ~ testost + age, family = binomial(link = logit), \n",
       "    data = blood.df)\n",
       "\n",
       "Deviance Residuals: \n",
       "    Min       1Q   Median       3Q      Max  \n",
       "-1.3557  -0.8778  -0.8310   1.4545   1.6224  \n",
       "\n",
       "Coefficients:\n",
       "             Estimate Std. Error z value Pr(>|z|)  \n",
       "(Intercept) -0.650054   1.179175  -0.551   0.5814  \n",
       "testost      0.014199   0.006814   2.084   0.0372 *\n",
       "age         -0.007703   0.019394  -0.397   0.6912  \n",
       "---\n",
       "Signif. codes:  0 ‘***’ 0.001 ‘**’ 0.01 ‘*’ 0.05 ‘.’ 0.1 ‘ ’ 1\n",
       "\n",
       "(Dispersion parameter for binomial family taken to be 1)\n",
       "\n",
       "    Null deviance: 625.32  on 497  degrees of freedom\n",
       "Residual deviance: 620.89  on 495  degrees of freedom\n",
       "AIC: 626.89\n",
       "\n",
       "Number of Fisher Scoring iterations: 4\n"
      ]
     },
     "metadata": {},
     "output_type": "display_data"
    }
   ],
   "source": [
    "blood.glm2 <- glm(case ~ testost +age, family = binomial(link=logit), data=blood.df)\n",
    "summary(blood.glm2)"
   ]
  },
  {
   "cell_type": "markdown",
   "metadata": {},
   "source": [
    "### Odds ratio"
   ]
  },
  {
   "cell_type": "code",
   "execution_count": 13,
   "metadata": {},
   "outputs": [
    {
     "data": {
      "text/html": [
       "<style>\n",
       ".dl-inline {width: auto; margin:0; padding: 0}\n",
       ".dl-inline>dt, .dl-inline>dd {float: none; width: auto; display: inline-block}\n",
       ".dl-inline>dt::after {content: \":\\0020\"; padding-right: .5ex}\n",
       ".dl-inline>dt:not(:first-of-type) {padding-left: .5ex}\n",
       "</style><dl class=dl-inline><dt>(Intercept)</dt><dd>0.52201746040091</dd><dt>testost</dt><dd>1.0143004566137</dd><dt>age</dt><dd>0.992326762344985</dd></dl>\n"
      ],
      "text/latex": [
       "\\begin{description*}\n",
       "\\item[(Intercept)] 0.52201746040091\n",
       "\\item[testost] 1.0143004566137\n",
       "\\item[age] 0.992326762344985\n",
       "\\end{description*}\n"
      ],
      "text/markdown": [
       "(Intercept)\n",
       ":   0.52201746040091testost\n",
       ":   1.0143004566137age\n",
       ":   0.992326762344985\n",
       "\n"
      ],
      "text/plain": [
       "(Intercept)     testost         age \n",
       "  0.5220175   1.0143005   0.9923268 "
      ]
     },
     "metadata": {},
     "output_type": "display_data"
    }
   ],
   "source": [
    "exp(blood.glm2$coefficients)"
   ]
  },
  {
   "cell_type": "markdown",
   "metadata": {},
   "source": [
    "The odds ratio for testosterone is given as 1.0143 whereas the odds ratio for age is given as 0.9923.\n",
    "\n",
    "This implies that odds of having breast cancer increase by 1.43% for each one unit increase in testosterone level when taking age into account. Conversely, the odds of having breast cancer decreases by 0.77% for each unit increas in age when taking testosterone level into account"
   ]
  },
  {
   "cell_type": "markdown",
   "metadata": {},
   "source": [
    "### Model diagnostics - Deviance of the model"
   ]
  },
  {
   "cell_type": "code",
   "execution_count": 14,
   "metadata": {},
   "outputs": [
    {
     "data": {
      "text/html": [
       "0.0070834551970324"
      ],
      "text/latex": [
       "0.0070834551970324"
      ],
      "text/markdown": [
       "0.0070834551970324"
      ],
      "text/plain": [
       "[1] 0.007083455"
      ]
     },
     "metadata": {},
     "output_type": "display_data"
    }
   ],
   "source": [
    "dev2 <- (blood.glm2$null.deviance - blood.glm2$deviance)/blood.glm2$null.deviance\n",
    "dev2"
   ]
  },
  {
   "cell_type": "markdown",
   "metadata": {},
   "source": [
    "Likewise, the value is low which indicates that the model is not good as it can only explain a small proportion of the deviance"
   ]
  },
  {
   "cell_type": "markdown",
   "metadata": {},
   "source": [
    "### ROC curve "
   ]
  },
  {
   "cell_type": "code",
   "execution_count": 15,
   "metadata": {},
   "outputs": [],
   "source": [
    "predict <- fitted(blood.glm2)\n",
    "pred <- prediction(predict, blood.df$case)\n",
    "perf <- performance(pred, measure = \"tpr\", x.measure = \"fpr\")\n",
    "plot(perf, main=\"sensitivity vs false positive rate\", colorize=TRUE)"
   ]
  },
  {
   "attachments": {
    "blood_2.png": {
     "image/png": "[encoded data removed]"
    }
   },
   "cell_type": "markdown",
   "metadata": {},
   "source": [
    "![blood_2.png](attachment:blood_2.png)"
   ]
  },
  {
   "cell_type": "markdown",
   "metadata": {},
   "source": [
    "The low AUC indicates that the model from the multiple logistic regression is not good"
   ]
  },
  {
   "cell_type": "markdown",
   "metadata": {},
   "source": [
    "### Comparison of model 1 and model 2"
   ]
  },
  {
   "cell_type": "code",
   "execution_count": 20,
   "metadata": {},
   "outputs": [],
   "source": [
    "diff.dev <- blood.glm$deviance - blood.glm2$deviance"
   ]
  },
  {
   "cell_type": "markdown",
   "metadata": {},
   "source": [
    "#### Hypothesis\n",
    "Null hypothesis : model 1 is equal to  model 2 <br>\n",
    "Alternative hypothesis: model 1 not equal to model 2"
   ]
  },
  {
   "cell_type": "code",
   "execution_count": 21,
   "metadata": {},
   "outputs": [
    {
     "data": {
      "text/html": [
       "0.691524142149225"
      ],
      "text/latex": [
       "0.691524142149225"
      ],
      "text/markdown": [
       "0.691524142149225"
      ],
      "text/plain": [
       "[1] 0.6915241"
      ]
     },
     "metadata": {},
     "output_type": "display_data"
    }
   ],
   "source": [
    "1-pchisq(diff.dev,1)"
   ]
  },
  {
   "cell_type": "markdown",
   "metadata": {},
   "source": [
    "We do not reject the null hypothesis since the p-value is greater than 0.05. Therefore, model 2 is not better than model 1 in predicting the odds of having breast cancer "
   ]
  }
 ],
 "metadata": {
  "kernelspec": {
   "display_name": "R",
   "language": "R",
   "name": "ir"
  },
  "language_info": {
   "codemirror_mode": "r",
   "file_extension": ".r",
   "mimetype": "text/x-r-source",
   "name": "R",
   "pygments_lexer": "r",
   "version": "3.4.4"
  }
 },
 "nbformat": 4,
 "nbformat_minor": 2
}
