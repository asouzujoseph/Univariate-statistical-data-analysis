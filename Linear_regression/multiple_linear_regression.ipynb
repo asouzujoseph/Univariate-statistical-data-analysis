{
 "cells": [
  {
   "cell_type": "markdown",
   "metadata": {},
   "source": [
    "# Multiple linear regression analysis - running dataset"
   ]
  },
  {
   "cell_type": "markdown",
   "metadata": {},
   "source": [
    "The data was obtained from a run competition. There were 31 participants. The variables are:\n",
    "\n",
    "age: age of the person\n",
    "\n",
    "weight: weight of the person (in kg)\n",
    "\n",
    "runtime: time necessary to run 1.5 miles\n",
    "\n",
    "rstpulse: pulse rate in rest\n",
    "\n",
    "runpulse: pulse rate at the end of the 1.5 miles\n",
    "\n",
    "maxpulse: maximum pulse rate while running\n",
    "\n",
    "oxygen: oxygen consumption, expressed in mL/kg/min.\n",
    "\n",
    "\n",
    "The goal is to model the oxygen consumption by using the other variables"
   ]
  },
  {
   "cell_type": "code",
   "execution_count": 1,
   "metadata": {},
   "outputs": [],
   "source": [
    "# import the data set\n",
    "data <- read.table(file=\"/mnt/c/Users/Nnamdi/Desktop/Bioinformatics/Univariate_data_modelling/data/UDM/runtest.txt\", header  = T)"
   ]
  },
  {
   "cell_type": "code",
   "execution_count": 2,
   "metadata": {},
   "outputs": [
    {
     "data": {
      "text/html": [
       "<table class=\"dataframe\">\n",
       "<caption>A data.frame: 10 × 6</caption>\n",
       "<thead>\n",
       "\t<tr><th></th><th scope=col>age</th><th scope=col>weight</th><th scope=col>runtime</th><th scope=col>rstpulse</th><th scope=col>maxpulse</th><th scope=col>oxygen</th></tr>\n",
       "\t<tr><th></th><th scope=col>&lt;int&gt;</th><th scope=col>&lt;dbl&gt;</th><th scope=col>&lt;dbl&gt;</th><th scope=col>&lt;int&gt;</th><th scope=col>&lt;int&gt;</th><th scope=col>&lt;dbl&gt;</th></tr>\n",
       "</thead>\n",
       "<tbody>\n",
       "\t<tr><th scope=row>1</th><td>57</td><td>73.37</td><td>12.63</td><td>58</td><td>176</td><td>39.407</td></tr>\n",
       "\t<tr><th scope=row>2</th><td>54</td><td>79.38</td><td>11.17</td><td>62</td><td>165</td><td>46.080</td></tr>\n",
       "\t<tr><th scope=row>3</th><td>52</td><td>76.32</td><td> 9.63</td><td>48</td><td>166</td><td>45.441</td></tr>\n",
       "\t<tr><th scope=row>4</th><td>50</td><td>70.87</td><td> 8.92</td><td>48</td><td>155</td><td>54.625</td></tr>\n",
       "\t<tr><th scope=row>5</th><td>51</td><td>67.25</td><td>11.08</td><td>48</td><td>172</td><td>45.118</td></tr>\n",
       "\t<tr><th scope=row>6</th><td>54</td><td>91.63</td><td>12.88</td><td>44</td><td>172</td><td>39.203</td></tr>\n",
       "\t<tr><th scope=row>7</th><td>51</td><td>73.71</td><td>10.47</td><td>59</td><td>188</td><td>45.790</td></tr>\n",
       "\t<tr><th scope=row>8</th><td>57</td><td>59.08</td><td> 9.93</td><td>49</td><td>155</td><td>50.545</td></tr>\n",
       "\t<tr><th scope=row>9</th><td>49</td><td>76.32</td><td> 9.40</td><td>56</td><td>188</td><td>48.673</td></tr>\n",
       "\t<tr><th scope=row>10</th><td>48</td><td>61.24</td><td>11.50</td><td>52</td><td>176</td><td>47.920</td></tr>\n",
       "</tbody>\n",
       "</table>\n"
      ],
      "text/latex": [
       "A data.frame: 10 × 6\n",
       "\\begin{tabular}{r|llllll}\n",
       "  & age & weight & runtime & rstpulse & maxpulse & oxygen\\\\\n",
       "  & <int> & <dbl> & <dbl> & <int> & <int> & <dbl>\\\\\n",
       "\\hline\n",
       "\t1 & 57 & 73.37 & 12.63 & 58 & 176 & 39.407\\\\\n",
       "\t2 & 54 & 79.38 & 11.17 & 62 & 165 & 46.080\\\\\n",
       "\t3 & 52 & 76.32 &  9.63 & 48 & 166 & 45.441\\\\\n",
       "\t4 & 50 & 70.87 &  8.92 & 48 & 155 & 54.625\\\\\n",
       "\t5 & 51 & 67.25 & 11.08 & 48 & 172 & 45.118\\\\\n",
       "\t6 & 54 & 91.63 & 12.88 & 44 & 172 & 39.203\\\\\n",
       "\t7 & 51 & 73.71 & 10.47 & 59 & 188 & 45.790\\\\\n",
       "\t8 & 57 & 59.08 &  9.93 & 49 & 155 & 50.545\\\\\n",
       "\t9 & 49 & 76.32 &  9.40 & 56 & 188 & 48.673\\\\\n",
       "\t10 & 48 & 61.24 & 11.50 & 52 & 176 & 47.920\\\\\n",
       "\\end{tabular}\n"
      ],
      "text/markdown": [
       "\n",
       "A data.frame: 10 × 6\n",
       "\n",
       "| <!--/--> | age &lt;int&gt; | weight &lt;dbl&gt; | runtime &lt;dbl&gt; | rstpulse &lt;int&gt; | maxpulse &lt;int&gt; | oxygen &lt;dbl&gt; |\n",
       "|---|---|---|---|---|---|---|\n",
       "| 1 | 57 | 73.37 | 12.63 | 58 | 176 | 39.407 |\n",
       "| 2 | 54 | 79.38 | 11.17 | 62 | 165 | 46.080 |\n",
       "| 3 | 52 | 76.32 |  9.63 | 48 | 166 | 45.441 |\n",
       "| 4 | 50 | 70.87 |  8.92 | 48 | 155 | 54.625 |\n",
       "| 5 | 51 | 67.25 | 11.08 | 48 | 172 | 45.118 |\n",
       "| 6 | 54 | 91.63 | 12.88 | 44 | 172 | 39.203 |\n",
       "| 7 | 51 | 73.71 | 10.47 | 59 | 188 | 45.790 |\n",
       "| 8 | 57 | 59.08 |  9.93 | 49 | 155 | 50.545 |\n",
       "| 9 | 49 | 76.32 |  9.40 | 56 | 188 | 48.673 |\n",
       "| 10 | 48 | 61.24 | 11.50 | 52 | 176 | 47.920 |\n",
       "\n"
      ],
      "text/plain": [
       "   age weight runtime rstpulse maxpulse oxygen\n",
       "1  57  73.37  12.63   58       176      39.407\n",
       "2  54  79.38  11.17   62       165      46.080\n",
       "3  52  76.32   9.63   48       166      45.441\n",
       "4  50  70.87   8.92   48       155      54.625\n",
       "5  51  67.25  11.08   48       172      45.118\n",
       "6  54  91.63  12.88   44       172      39.203\n",
       "7  51  73.71  10.47   59       188      45.790\n",
       "8  57  59.08   9.93   49       155      50.545\n",
       "9  49  76.32   9.40   56       188      48.673\n",
       "10 48  61.24  11.50   52       176      47.920"
      ]
     },
     "metadata": {},
     "output_type": "display_data"
    }
   ],
   "source": [
    "head(data, n=10)"
   ]
  },
  {
   "cell_type": "markdown",
   "metadata": {},
   "source": [
    " Descriptive statistics"
   ]
  },
  {
   "cell_type": "code",
   "execution_count": 3,
   "metadata": {},
   "outputs": [
    {
     "data": {
      "image/png": "[encoded data removed]",
      "text/plain": [
       "Plot with title “Box plot of run data”"
      ]
     },
     "metadata": {
      "image/png": {
       "height": 420,
       "width": 420
      }
     },
     "output_type": "display_data"
    }
   ],
   "source": [
    "boxplot(data, col = \"red\", main = \"Box plot of run data\")"
   ]
  },
  {
   "cell_type": "markdown",
   "metadata": {},
   "source": [
    "Correlation analysis between Oxygen and other variables"
   ]
  },
  {
   "cell_type": "code",
   "execution_count": 4,
   "metadata": {},
   "outputs": [
    {
     "data": {
      "text/plain": [
       "$age\n",
       "\n",
       "\tShapiro-Wilk normality test\n",
       "\n",
       "data:  newX[, i]\n",
       "W = 0.9704, p-value = 0.5302\n",
       "\n",
       "\n",
       "$weight\n",
       "\n",
       "\tShapiro-Wilk normality test\n",
       "\n",
       "data:  newX[, i]\n",
       "W = 0.97993, p-value = 0.8106\n",
       "\n",
       "\n",
       "$runtime\n",
       "\n",
       "\tShapiro-Wilk normality test\n",
       "\n",
       "data:  newX[, i]\n",
       "W = 0.97359, p-value = 0.6223\n",
       "\n",
       "\n",
       "$rstpulse\n",
       "\n",
       "\tShapiro-Wilk normality test\n",
       "\n",
       "data:  newX[, i]\n",
       "W = 0.94694, p-value = 0.1285\n",
       "\n",
       "\n",
       "$maxpulse\n",
       "\n",
       "\tShapiro-Wilk normality test\n",
       "\n",
       "data:  newX[, i]\n",
       "W = 0.96983, p-value = 0.5143\n",
       "\n",
       "\n",
       "$oxygen\n",
       "\n",
       "\tShapiro-Wilk normality test\n",
       "\n",
       "data:  newX[, i]\n",
       "W = 0.95366, p-value = 0.1968\n",
       "\n"
      ]
     },
     "metadata": {},
     "output_type": "display_data"
    }
   ],
   "source": [
    "# test for normality with Shapiro wilk test\n",
    "apply(data, 2, FUN = shapiro.test)"
   ]
  },
  {
   "cell_type": "code",
   "execution_count": 5,
   "metadata": {},
   "outputs": [
    {
     "data": {
      "text/html": [
       "<table class=\"dataframe\">\n",
       "<caption>A matrix: 6 × 6 of type dbl</caption>\n",
       "<thead>\n",
       "\t<tr><th></th><th scope=col>age</th><th scope=col>weight</th><th scope=col>runtime</th><th scope=col>rstpulse</th><th scope=col>maxpulse</th><th scope=col>oxygen</th></tr>\n",
       "</thead>\n",
       "<tbody>\n",
       "\t<tr><th scope=row>age</th><td> 1.0000000</td><td>-0.23353903</td><td> 0.1887453</td><td>-0.14156640</td><td>-0.4329159</td><td>-0.3045924</td></tr>\n",
       "\t<tr><th scope=row>weight</th><td>-0.2335390</td><td> 1.00000000</td><td> 0.1435076</td><td> 0.02270099</td><td> 0.2493812</td><td>-0.1627528</td></tr>\n",
       "\t<tr><th scope=row>runtime</th><td> 0.1887453</td><td> 0.14350758</td><td> 1.0000000</td><td> 0.40053599</td><td> 0.2261030</td><td>-0.8621949</td></tr>\n",
       "\t<tr><th scope=row>rstpulse</th><td>-0.1415664</td><td> 0.02270099</td><td> 0.4005360</td><td> 1.00000000</td><td> 0.2575034</td><td>-0.3464054</td></tr>\n",
       "\t<tr><th scope=row>maxpulse</th><td>-0.4329159</td><td> 0.24938123</td><td> 0.2261030</td><td> 0.25750341</td><td> 1.0000000</td><td>-0.2367402</td></tr>\n",
       "\t<tr><th scope=row>oxygen</th><td>-0.3045924</td><td>-0.16275285</td><td>-0.8621949</td><td>-0.34640540</td><td>-0.2367402</td><td> 1.0000000</td></tr>\n",
       "</tbody>\n",
       "</table>\n"
      ],
      "text/latex": [
       "A matrix: 6 × 6 of type dbl\n",
       "\\begin{tabular}{r|llllll}\n",
       "  & age & weight & runtime & rstpulse & maxpulse & oxygen\\\\\n",
       "\\hline\n",
       "\tage &  1.0000000 & -0.23353903 &  0.1887453 & -0.14156640 & -0.4329159 & -0.3045924\\\\\n",
       "\tweight & -0.2335390 &  1.00000000 &  0.1435076 &  0.02270099 &  0.2493812 & -0.1627528\\\\\n",
       "\truntime &  0.1887453 &  0.14350758 &  1.0000000 &  0.40053599 &  0.2261030 & -0.8621949\\\\\n",
       "\trstpulse & -0.1415664 &  0.02270099 &  0.4005360 &  1.00000000 &  0.2575034 & -0.3464054\\\\\n",
       "\tmaxpulse & -0.4329159 &  0.24938123 &  0.2261030 &  0.25750341 &  1.0000000 & -0.2367402\\\\\n",
       "\toxygen & -0.3045924 & -0.16275285 & -0.8621949 & -0.34640540 & -0.2367402 &  1.0000000\\\\\n",
       "\\end{tabular}\n"
      ],
      "text/markdown": [
       "\n",
       "A matrix: 6 × 6 of type dbl\n",
       "\n",
       "| <!--/--> | age | weight | runtime | rstpulse | maxpulse | oxygen |\n",
       "|---|---|---|---|---|---|---|\n",
       "| age |  1.0000000 | -0.23353903 |  0.1887453 | -0.14156640 | -0.4329159 | -0.3045924 |\n",
       "| weight | -0.2335390 |  1.00000000 |  0.1435076 |  0.02270099 |  0.2493812 | -0.1627528 |\n",
       "| runtime |  0.1887453 |  0.14350758 |  1.0000000 |  0.40053599 |  0.2261030 | -0.8621949 |\n",
       "| rstpulse | -0.1415664 |  0.02270099 |  0.4005360 |  1.00000000 |  0.2575034 | -0.3464054 |\n",
       "| maxpulse | -0.4329159 |  0.24938123 |  0.2261030 |  0.25750341 |  1.0000000 | -0.2367402 |\n",
       "| oxygen | -0.3045924 | -0.16275285 | -0.8621949 | -0.34640540 | -0.2367402 |  1.0000000 |\n",
       "\n"
      ],
      "text/plain": [
       "         age        weight      runtime    rstpulse    maxpulse   oxygen    \n",
       "age       1.0000000 -0.23353903  0.1887453 -0.14156640 -0.4329159 -0.3045924\n",
       "weight   -0.2335390  1.00000000  0.1435076  0.02270099  0.2493812 -0.1627528\n",
       "runtime   0.1887453  0.14350758  1.0000000  0.40053599  0.2261030 -0.8621949\n",
       "rstpulse -0.1415664  0.02270099  0.4005360  1.00000000  0.2575034 -0.3464054\n",
       "maxpulse -0.4329159  0.24938123  0.2261030  0.25750341  1.0000000 -0.2367402\n",
       "oxygen   -0.3045924 -0.16275285 -0.8621949 -0.34640540 -0.2367402  1.0000000"
      ]
     },
     "metadata": {},
     "output_type": "display_data"
    }
   ],
   "source": [
    "# the variables have a normal distribution, so the pearsom correlation test will be used. Otherwise, Spearman correlation \n",
    "# test will be used.\n",
    "data.cor <- cor(data, method = \"pearson\")\n",
    "data.cor"
   ]
  },
  {
   "cell_type": "markdown",
   "metadata": {},
   "source": [
    "Linear regression of Oxygen using other variables"
   ]
  },
  {
   "cell_type": "code",
   "execution_count": 6,
   "metadata": {},
   "outputs": [
    {
     "data": {
      "text/plain": [
       "\n",
       "Call:\n",
       "lm(formula = oxygen ~ ., data = data)\n",
       "\n",
       "Residuals:\n",
       "    Min      1Q  Median      3Q     Max \n",
       "-5.0843 -1.4483  0.0672  1.2994  5.6408 \n",
       "\n",
       "Coefficients:\n",
       "             Estimate Std. Error t value Pr(>|t|)    \n",
       "(Intercept) 109.79397   14.14819   7.760 4.07e-08 ***\n",
       "age          -0.25279    0.11473  -2.203    0.037 *  \n",
       "weight       -0.04811    0.06269  -0.767    0.450    \n",
       "runtime      -2.90391    0.42622  -6.813 3.85e-07 ***\n",
       "rstpulse     -0.02553    0.06730  -0.379    0.708    \n",
       "maxpulse     -0.08360    0.06408  -1.305    0.204    \n",
       "---\n",
       "Signif. codes:  0 ‘***’ 0.001 ‘**’ 0.01 ‘*’ 0.05 ‘.’ 0.1 ‘ ’ 1\n",
       "\n",
       "Residual standard error: 2.69 on 25 degrees of freedom\n",
       "Multiple R-squared:  0.7874,\tAdjusted R-squared:  0.7449 \n",
       "F-statistic: 18.52 on 5 and 25 DF,  p-value: 1.082e-07\n"
      ]
     },
     "metadata": {},
     "output_type": "display_data"
    }
   ],
   "source": [
    "data.lm = lm(oxygen~.,data = data)\n",
    "summary(data.lm)"
   ]
  },
  {
   "cell_type": "markdown",
   "metadata": {},
   "source": [
    "The model has only two significant variables (age and runtime) that affect oxygen consumption\n",
    "\n",
    "The estimated regression model is given as *Oxygen = 109.79 - 0.253(Age) - 2.904(Runtime)* \n",
    "\n",
    "This implies that when comparing individuals with the same runtime, we expect a decrease in oxygen consumption by 0.253 mL/kg/min with every 1 unit increase in age.\n",
    "\n",
    "Also, when comparing individuals with the same age, there will be decrease in oxygen consumption by 2.904 mL/kg/min with every 1 minute increase in run time.\n",
    "\n",
    "Likewise, the adjusted R square value indicates that approximately 75% variability in oxygen consumption can be explained by age and runtime of the individual.\n",
    "\n",
    "\n"
   ]
  },
  {
   "cell_type": "markdown",
   "metadata": {},
   "source": [
    "### Check if the estimated regression model fulfils the underlying assumptions of linear regression"
   ]
  },
  {
   "cell_type": "markdown",
   "metadata": {},
   "source": [
    "Linear regression uses the following assumptions: linearity, normality and constant variance.\n"
   ]
  },
  {
   "cell_type": "markdown",
   "metadata": {},
   "source": [
    "1. Check for linearity by plotting (standardized) residuals versus fitted response. Alternatively, plot the(standardized) residuals versus each regressor. Linearity is fulfilled if there is random distribution of points in the plots"
   ]
  },
  {
   "cell_type": "code",
   "execution_count": 7,
   "metadata": {},
   "outputs": [
    {
     "data": {
      "image/png": "[encoded data removed]",
      "text/plain": [
       "plot without title"
      ]
     },
     "metadata": {
      "image/png": {
       "height": 420,
       "width": 420
      }
     },
     "output_type": "display_data"
    }
   ],
   "source": [
    "fit <- fitted(data.lm)\n",
    "rs <- rstandard(data.lm)\n",
    "par(mfrow=c(2,2))\n",
    "plot(rs ~ fit)\n",
    "plot(rs ~ data$age)\n",
    "plot(rs ~ data$runtime)"
   ]
  },
  {
   "cell_type": "markdown",
   "metadata": {},
   "source": [
    "There is random distribution of points in the plots hence the data fulfils the linearity criteria"
   ]
  },
  {
   "cell_type": "code",
   "execution_count": null,
   "metadata": {},
   "outputs": [],
   "source": []
  },
  {
   "cell_type": "markdown",
   "metadata": {},
   "source": [
    "2. Check for normality of (standardized) residuals\n",
    "\n",
    "    Null hypothesis : standard residuals are normally distributed\n",
    "    \n",
    "    Alternative hypothesis : standard residuals are not normally distributed"
   ]
  },
  {
   "cell_type": "code",
   "execution_count": 8,
   "metadata": {},
   "outputs": [
    {
     "data": {
      "text/plain": [
       "\n",
       "\tShapiro-Wilk normality test\n",
       "\n",
       "data:  rs\n",
       "W = 0.97322, p-value = 0.6114\n"
      ]
     },
     "metadata": {},
     "output_type": "display_data"
    }
   ],
   "source": [
    "shapiro.test(rs)   #rs == residuals"
   ]
  },
  {
   "cell_type": "markdown",
   "metadata": {},
   "source": [
    "Since the p-value > 0.05, we will not reject the null hypothesis. Thus, the normality criteria is fulfilled."
   ]
  },
  {
   "cell_type": "code",
   "execution_count": null,
   "metadata": {},
   "outputs": [],
   "source": []
  },
  {
   "cell_type": "markdown",
   "metadata": {},
   "source": [
    "3. Check for constant variance (presence of influential points) using Cook's distance"
   ]
  },
  {
   "cell_type": "code",
   "execution_count": 9,
   "metadata": {},
   "outputs": [
    {
     "data": {
      "image/png": "[encoded data removed]",
      "text/plain": [
       "plot without title"
      ]
     },
     "metadata": {
      "image/png": {
       "height": 420,
       "width": 420
      }
     },
     "output_type": "display_data"
    }
   ],
   "source": [
    "plot(cooks.distance(data.lm))"
   ]
  },
  {
   "cell_type": "markdown",
   "metadata": {},
   "source": [
    "There is an outlying observation. This observation will be removed from the data and linear regression analysis will be repeated using the new data set. Then, the influence of the outlier point on the regression analysis can be estiamted."
   ]
  },
  {
   "cell_type": "code",
   "execution_count": 10,
   "metadata": {},
   "outputs": [
    {
     "data": {
      "text/html": [
       "<table class=\"dataframe\">\n",
       "<caption>A data.frame: 1 × 6</caption>\n",
       "<thead>\n",
       "\t<tr><th></th><th scope=col>age</th><th scope=col>weight</th><th scope=col>runtime</th><th scope=col>rstpulse</th><th scope=col>maxpulse</th><th scope=col>oxygen</th></tr>\n",
       "\t<tr><th></th><th scope=col>&lt;int&gt;</th><th scope=col>&lt;dbl&gt;</th><th scope=col>&lt;dbl&gt;</th><th scope=col>&lt;int&gt;</th><th scope=col>&lt;int&gt;</th><th scope=col>&lt;dbl&gt;</th></tr>\n",
       "</thead>\n",
       "<tbody>\n",
       "\t<tr><th scope=row>31</th><td>38</td><td>81.87</td><td>8.63</td><td>48</td><td>186</td><td>60.055</td></tr>\n",
       "</tbody>\n",
       "</table>\n"
      ],
      "text/latex": [
       "A data.frame: 1 × 6\n",
       "\\begin{tabular}{r|llllll}\n",
       "  & age & weight & runtime & rstpulse & maxpulse & oxygen\\\\\n",
       "  & <int> & <dbl> & <dbl> & <int> & <int> & <dbl>\\\\\n",
       "\\hline\n",
       "\t31 & 38 & 81.87 & 8.63 & 48 & 186 & 60.055\\\\\n",
       "\\end{tabular}\n"
      ],
      "text/markdown": [
       "\n",
       "A data.frame: 1 × 6\n",
       "\n",
       "| <!--/--> | age &lt;int&gt; | weight &lt;dbl&gt; | runtime &lt;dbl&gt; | rstpulse &lt;int&gt; | maxpulse &lt;int&gt; | oxygen &lt;dbl&gt; |\n",
       "|---|---|---|---|---|---|---|\n",
       "| 31 | 38 | 81.87 | 8.63 | 48 | 186 | 60.055 |\n",
       "\n"
      ],
      "text/plain": [
       "   age weight runtime rstpulse maxpulse oxygen\n",
       "31 38  81.87  8.63    48       186      60.055"
      ]
     },
     "metadata": {},
     "output_type": "display_data"
    }
   ],
   "source": [
    "## to find the outlying observation\n",
    "data[which(cooks.distance(data.lm) > 0.25),]"
   ]
  },
  {
   "cell_type": "code",
   "execution_count": 11,
   "metadata": {},
   "outputs": [],
   "source": [
    "# Observation 31 is the outlier hence it will be removed from the dataset\n",
    "data_new <- data[-31,]"
   ]
  },
  {
   "cell_type": "code",
   "execution_count": 12,
   "metadata": {},
   "outputs": [
    {
     "data": {
      "text/plain": [
       "\n",
       "Call:\n",
       "lm(formula = oxygen ~ ., data = data_new)\n",
       "\n",
       "Residuals:\n",
       "   Min     1Q Median     3Q    Max \n",
       "-5.264 -1.169  0.396  1.003  5.120 \n",
       "\n",
       "Coefficients:\n",
       "              Estimate Std. Error t value Pr(>|t|)    \n",
       "(Intercept) 109.759963  12.672328   8.661 7.52e-09 ***\n",
       "age          -0.198644   0.104736  -1.897   0.0700 .  \n",
       "weight       -0.052260   0.056173  -0.930   0.3615    \n",
       "runtime      -2.687787   0.390203  -6.888 4.01e-07 ***\n",
       "rstpulse     -0.005003   0.060766  -0.082   0.9351    \n",
       "maxpulse     -0.117289   0.058761  -1.996   0.0574 .  \n",
       "---\n",
       "Signif. codes:  0 ‘***’ 0.001 ‘**’ 0.01 ‘*’ 0.05 ‘.’ 0.1 ‘ ’ 1\n",
       "\n",
       "Residual standard error: 2.41 on 24 degrees of freedom\n",
       "Multiple R-squared:  0.7966,\tAdjusted R-squared:  0.7542 \n",
       "F-statistic:  18.8 on 5 and 24 DF,  p-value: 1.33e-07\n"
      ]
     },
     "metadata": {},
     "output_type": "display_data"
    }
   ],
   "source": [
    "# redo regression analysis\n",
    "data.newLm <- lm(oxygen~.,data_new)\n",
    "summary(data.newLm)"
   ]
  },
  {
   "cell_type": "markdown",
   "metadata": {},
   "source": [
    "Comparison of regression summary of both datasets indicate that the outlying point is not influential as it did not change the percenrage variablity of oxygen consumption explained by age an runtime. Therefore, this estimated regression model is good for predictions as it fulfils all the underlying assumptions."
   ]
  },
  {
   "cell_type": "code",
   "execution_count": null,
   "metadata": {},
   "outputs": [],
   "source": []
  }
 ],
 "metadata": {
  "kernelspec": {
   "display_name": "R",
   "language": "R",
   "name": "ir"
  },
  "language_info": {
   "codemirror_mode": "r",
   "file_extension": ".r",
   "mimetype": "text/x-r-source",
   "name": "R",
   "pygments_lexer": "r",
   "version": "3.4.4"
  }
 },
 "nbformat": 4,
 "nbformat_minor": 2
}
