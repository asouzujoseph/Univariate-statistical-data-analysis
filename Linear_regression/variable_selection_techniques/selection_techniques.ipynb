{
 "cells": [
  {
   "cell_type": "markdown",
   "metadata": {},
   "source": [
    "# Model and variable selection process"
   ]
  },
  {
   "cell_type": "markdown",
   "metadata": {},
   "source": [
    "93 cars were studied in order to compare their prices. There is also information on the specifications of\n",
    "the car. In this way, a customer can decide which car to take. \n",
    "\n",
    "The following variables were studied:\n",
    "\n",
    "**Variable**&nbsp;&nbsp;&nbsp;&nbsp;Description<br>\n",
    "**Manufacturer**&nbsp;&nbsp;&nbsp;&nbsp;Name of manufacturer <br>\n",
    "**Type**&nbsp;&nbsp;&nbsp;&nbsp;Small, sporty, compact, midsize, large <br>\n",
    "**MinimumPrice**&nbsp;&nbsp;&nbsp;&nbsp;Price basic version <br>\n",
    "**MidrangePrice**&nbsp;&nbsp;&nbsp;&nbsp;Price in between minimum and maximum price <br>\n",
    "**MaximumPrice**   &nbsp;&nbsp;&nbsp;&nbsp;         Maximum price <br>\n",
    "**CityMPG**      &nbsp;&nbsp;&nbsp;&nbsp;           ‘Miles per Gallon’ in city<br>\n",
    "**HighwayMPG**   &nbsp;&nbsp;&nbsp;&nbsp;           ‘Miles per Gallon’ on highway<br>\n",
    "**AirBags**      &nbsp;&nbsp;&nbsp;&nbsp;           0: No airbags 1: Driver only 2: Driver and passenger<br>\n",
    "**Drivetrain**   &nbsp;&nbsp;&nbsp;&nbsp;           0: rear wheel drive 1: front wheel drive 2: all wheel drive<br>\n",
    "**cylinders**    &nbsp;&nbsp;&nbsp;&nbsp;           Number of cylinders<br>\n",
    "**Enginesize**    &nbsp;&nbsp;&nbsp;&nbsp;          Engine size (in liters)<br>\n",
    "**Horsepower**   &nbsp;&nbsp;&nbsp;&nbsp;           Horsepower (max)<br>\n",
    "**RPM**          &nbsp;&nbsp;&nbsp;&nbsp;           Revolutions per minute at maximum horsepower <br>\n",
    "**Revolutions**  &nbsp;&nbsp;&nbsp;&nbsp;           Engine revolutions per mile<br>\n",
    "**Transmission** &nbsp;&nbsp;&nbsp;&nbsp;           Manual transmission available? 0: no 1: yes<br>\n",
    "**FuelTank**      &nbsp;&nbsp;&nbsp;&nbsp;          Fuel tank capacity (in gallons)<br>\n",
    "**Passengers**     &nbsp;&nbsp;&nbsp;&nbsp;         Passenger capacity (number of passengers)<br>\n",
    "**Length**         &nbsp;&nbsp;&nbsp;&nbsp;         Length in inches<br>\n",
    "**Wheelbase**      &nbsp;&nbsp;&nbsp;&nbsp;         Wheel base in inches<br>\n",
    "**Width**         &nbsp;&nbsp;&nbsp;&nbsp;          Width in inches<br>\n",
    "**Uturn**        &nbsp;&nbsp;&nbsp;&nbsp;           U-turn space expressed in feet<br>\n",
    "**RearSeat**     &nbsp;&nbsp;&nbsp;&nbsp;           Rear seat room expressed in inches<br>\n",
    "**Luggage**      &nbsp;&nbsp;&nbsp;&nbsp;           Luggage capacity<br>\n",
    "**Weight**       &nbsp;&nbsp;&nbsp;&nbsp;           Weight in pond<br>\n",
    "**Domestic**     &nbsp;&nbsp;&nbsp;&nbsp;           0: Non-US 1: US<br>\n",
    "\n",
    "**Task**: Formulate a good regression model for MidrangePrice using the following variables: Horsepower, Length,\n",
    "Luggage, Uturn, Wheelbase, and Width.\n",
    "\n",
    "a. Use all-possible-subsets selection techhnique\n",
    "\n",
    "b. Use one of the automatic-selection techniques"
   ]
  },
  {
   "cell_type": "markdown",
   "metadata": {},
   "source": [
    "Import data set"
   ]
  },
  {
   "cell_type": "code",
   "execution_count": 1,
   "metadata": {},
   "outputs": [],
   "source": [
    "data<-read.table(file=\"/mnt/c/Users/Nnamdi/Desktop/Bioinformatics/Univariate_data_modelling/data/UDM/cars1.txt\", header  = T)\n",
    "attach(data)"
   ]
  },
  {
   "cell_type": "code",
   "execution_count": 2,
   "metadata": {},
   "outputs": [
    {
     "data": {
      "text/html": [
       "<table class=\"dataframe\">\n",
       "<caption>A data.frame: 6 × 7</caption>\n",
       "<thead>\n",
       "\t<tr><th></th><th scope=col>MidrangePrice</th><th scope=col>Horsepower</th><th scope=col>Length</th><th scope=col>Luggage</th><th scope=col>Uturn</th><th scope=col>Wheelbase</th><th scope=col>Width</th></tr>\n",
       "\t<tr><th></th><th scope=col>&lt;dbl&gt;</th><th scope=col>&lt;int&gt;</th><th scope=col>&lt;int&gt;</th><th scope=col>&lt;int&gt;</th><th scope=col>&lt;int&gt;</th><th scope=col>&lt;int&gt;</th><th scope=col>&lt;int&gt;</th></tr>\n",
       "</thead>\n",
       "<tbody>\n",
       "\t<tr><th scope=row>1</th><td>14.1</td><td>100</td><td>166</td><td> 6</td><td>36</td><td> 95</td><td>65</td></tr>\n",
       "\t<tr><th scope=row>2</th><td>19.8</td><td>160</td><td>175</td><td> 8</td><td>39</td><td>100</td><td>70</td></tr>\n",
       "\t<tr><th scope=row>3</th><td>14.4</td><td> 92</td><td>173</td><td> 8</td><td>39</td><td> 97</td><td>67</td></tr>\n",
       "\t<tr><th scope=row>4</th><td>10.0</td><td> 92</td><td>166</td><td> 9</td><td>34</td><td> 94</td><td>64</td></tr>\n",
       "\t<tr><th scope=row>5</th><td>35.2</td><td>225</td><td>191</td><td> 9</td><td>39</td><td>106</td><td>71</td></tr>\n",
       "\t<tr><th scope=row>6</th><td> 8.4</td><td> 55</td><td>151</td><td>10</td><td>34</td><td> 93</td><td>63</td></tr>\n",
       "</tbody>\n",
       "</table>\n"
      ],
      "text/latex": [
       "A data.frame: 6 × 7\n",
       "\\begin{tabular}{r|lllllll}\n",
       "  & MidrangePrice & Horsepower & Length & Luggage & Uturn & Wheelbase & Width\\\\\n",
       "  & <dbl> & <int> & <int> & <int> & <int> & <int> & <int>\\\\\n",
       "\\hline\n",
       "\t1 & 14.1 & 100 & 166 &  6 & 36 &  95 & 65\\\\\n",
       "\t2 & 19.8 & 160 & 175 &  8 & 39 & 100 & 70\\\\\n",
       "\t3 & 14.4 &  92 & 173 &  8 & 39 &  97 & 67\\\\\n",
       "\t4 & 10.0 &  92 & 166 &  9 & 34 &  94 & 64\\\\\n",
       "\t5 & 35.2 & 225 & 191 &  9 & 39 & 106 & 71\\\\\n",
       "\t6 &  8.4 &  55 & 151 & 10 & 34 &  93 & 63\\\\\n",
       "\\end{tabular}\n"
      ],
      "text/markdown": [
       "\n",
       "A data.frame: 6 × 7\n",
       "\n",
       "| <!--/--> | MidrangePrice &lt;dbl&gt; | Horsepower &lt;int&gt; | Length &lt;int&gt; | Luggage &lt;int&gt; | Uturn &lt;int&gt; | Wheelbase &lt;int&gt; | Width &lt;int&gt; |\n",
       "|---|---|---|---|---|---|---|---|\n",
       "| 1 | 14.1 | 100 | 166 |  6 | 36 |  95 | 65 |\n",
       "| 2 | 19.8 | 160 | 175 |  8 | 39 | 100 | 70 |\n",
       "| 3 | 14.4 |  92 | 173 |  8 | 39 |  97 | 67 |\n",
       "| 4 | 10.0 |  92 | 166 |  9 | 34 |  94 | 64 |\n",
       "| 5 | 35.2 | 225 | 191 |  9 | 39 | 106 | 71 |\n",
       "| 6 |  8.4 |  55 | 151 | 10 | 34 |  93 | 63 |\n",
       "\n"
      ],
      "text/plain": [
       "  MidrangePrice Horsepower Length Luggage Uturn Wheelbase Width\n",
       "1 14.1          100        166     6      36     95       65   \n",
       "2 19.8          160        175     8      39    100       70   \n",
       "3 14.4           92        173     8      39     97       67   \n",
       "4 10.0           92        166     9      34     94       64   \n",
       "5 35.2          225        191     9      39    106       71   \n",
       "6  8.4           55        151    10      34     93       63   "
      ]
     },
     "metadata": {},
     "output_type": "display_data"
    }
   ],
   "source": [
    "cars.df <- data.frame(MidrangePrice,Horsepower, Length, Luggage, Uturn, Wheelbase, Width)\n",
    "head(cars.df)"
   ]
  },
  {
   "cell_type": "markdown",
   "metadata": {},
   "source": [
    "# All possible subsets variable selection"
   ]
  },
  {
   "cell_type": "code",
   "execution_count": 3,
   "metadata": {},
   "outputs": [
    {
     "name": "stderr",
     "output_type": "stream",
     "text": [
      "Installing package into ‘/home/nnamdi/R/x86_64-pc-linux-gnu-library/3.4’\n",
      "(as ‘lib’ is unspecified)\n",
      "\n"
     ]
    }
   ],
   "source": [
    "library(leaps)"
   ]
  },
  {
   "cell_type": "code",
   "execution_count": 4,
   "metadata": {},
   "outputs": [
    {
     "data": {
      "text/html": [
       "<table class=\"dataframe\">\n",
       "<caption>A matrix: 43 × 8 of type dbl</caption>\n",
       "<thead>\n",
       "\t<tr><th></th><th scope=col>Horsepower</th><th scope=col>Length</th><th scope=col>Luggage</th><th scope=col>Uturn</th><th scope=col>Wheelbase</th><th scope=col>Width</th><th scope=col>num of parameters</th><th scope=col>r2</th></tr>\n",
       "</thead>\n",
       "<tbody>\n",
       "\t<tr><th scope=row>1</th><td>1</td><td>0</td><td>0</td><td>0</td><td>0</td><td>0</td><td>2</td><td>0.620</td></tr>\n",
       "\t<tr><th scope=row>1</th><td>0</td><td>0</td><td>0</td><td>0</td><td>1</td><td>0</td><td>2</td><td>0.395</td></tr>\n",
       "\t<tr><th scope=row>1</th><td>0</td><td>1</td><td>0</td><td>0</td><td>0</td><td>0</td><td>2</td><td>0.305</td></tr>\n",
       "\t<tr><th scope=row>1</th><td>0</td><td>0</td><td>0</td><td>0</td><td>0</td><td>1</td><td>2</td><td>0.245</td></tr>\n",
       "\t<tr><th scope=row>1</th><td>0</td><td>0</td><td>0</td><td>1</td><td>0</td><td>0</td><td>2</td><td>0.181</td></tr>\n",
       "\t<tr><th scope=row>1</th><td>0</td><td>0</td><td>1</td><td>0</td><td>0</td><td>0</td><td>2</td><td>0.134</td></tr>\n",
       "\t<tr><th scope=row>2</th><td>1</td><td>0</td><td>0</td><td>0</td><td>1</td><td>0</td><td>3</td><td>0.640</td></tr>\n",
       "\t<tr><th scope=row>2</th><td>1</td><td>0</td><td>1</td><td>0</td><td>0</td><td>0</td><td>3</td><td>0.628</td></tr>\n",
       "\t<tr><th scope=row>2</th><td>1</td><td>0</td><td>0</td><td>0</td><td>0</td><td>1</td><td>3</td><td>0.624</td></tr>\n",
       "\t<tr><th scope=row>2</th><td>1</td><td>1</td><td>0</td><td>0</td><td>0</td><td>0</td><td>3</td><td>0.623</td></tr>\n",
       "\t<tr><th scope=row>2</th><td>1</td><td>0</td><td>0</td><td>1</td><td>0</td><td>0</td><td>3</td><td>0.623</td></tr>\n",
       "\t<tr><th scope=row>2</th><td>0</td><td>0</td><td>1</td><td>0</td><td>1</td><td>0</td><td>3</td><td>0.414</td></tr>\n",
       "\t<tr><th scope=row>2</th><td>0</td><td>0</td><td>0</td><td>0</td><td>1</td><td>1</td><td>3</td><td>0.400</td></tr>\n",
       "\t<tr><th scope=row>2</th><td>0</td><td>0</td><td>0</td><td>1</td><td>1</td><td>0</td><td>3</td><td>0.399</td></tr>\n",
       "\t<tr><th scope=row>2</th><td>0</td><td>1</td><td>0</td><td>0</td><td>1</td><td>0</td><td>3</td><td>0.397</td></tr>\n",
       "\t<tr><th scope=row>2</th><td>0</td><td>1</td><td>0</td><td>1</td><td>0</td><td>0</td><td>3</td><td>0.306</td></tr>\n",
       "\t<tr><th scope=row>3</th><td>1</td><td>0</td><td>0</td><td>0</td><td>1</td><td>1</td><td>4</td><td>0.699</td></tr>\n",
       "\t<tr><th scope=row>3</th><td>1</td><td>0</td><td>0</td><td>1</td><td>1</td><td>0</td><td>4</td><td>0.670</td></tr>\n",
       "\t<tr><th scope=row>3</th><td>1</td><td>1</td><td>0</td><td>0</td><td>0</td><td>1</td><td>4</td><td>0.658</td></tr>\n",
       "\t<tr><th scope=row>3</th><td>1</td><td>1</td><td>0</td><td>0</td><td>1</td><td>0</td><td>4</td><td>0.653</td></tr>\n",
       "\t<tr><th scope=row>3</th><td>1</td><td>0</td><td>1</td><td>0</td><td>0</td><td>1</td><td>4</td><td>0.652</td></tr>\n",
       "\t<tr><th scope=row>3</th><td>1</td><td>1</td><td>0</td><td>1</td><td>0</td><td>0</td><td>4</td><td>0.642</td></tr>\n",
       "\t<tr><th scope=row>3</th><td>1</td><td>0</td><td>1</td><td>1</td><td>0</td><td>0</td><td>4</td><td>0.642</td></tr>\n",
       "\t<tr><th scope=row>3</th><td>1</td><td>0</td><td>1</td><td>0</td><td>1</td><td>0</td><td>4</td><td>0.640</td></tr>\n",
       "\t<tr><th scope=row>3</th><td>1</td><td>1</td><td>1</td><td>0</td><td>0</td><td>0</td><td>4</td><td>0.628</td></tr>\n",
       "\t<tr><th scope=row>3</th><td>1</td><td>0</td><td>0</td><td>1</td><td>0</td><td>1</td><td>4</td><td>0.624</td></tr>\n",
       "\t<tr><th scope=row>4</th><td>1</td><td>0</td><td>0</td><td>1</td><td>1</td><td>1</td><td>5</td><td>0.703</td></tr>\n",
       "\t<tr><th scope=row>4</th><td>1</td><td>0</td><td>1</td><td>0</td><td>1</td><td>1</td><td>5</td><td>0.701</td></tr>\n",
       "\t<tr><th scope=row>4</th><td>1</td><td>1</td><td>0</td><td>0</td><td>1</td><td>1</td><td>5</td><td>0.699</td></tr>\n",
       "\t<tr><th scope=row>4</th><td>1</td><td>1</td><td>0</td><td>1</td><td>1</td><td>0</td><td>5</td><td>0.671</td></tr>\n",
       "\t<tr><th scope=row>4</th><td>1</td><td>0</td><td>1</td><td>1</td><td>1</td><td>0</td><td>5</td><td>0.670</td></tr>\n",
       "\t<tr><th scope=row>4</th><td>1</td><td>1</td><td>1</td><td>0</td><td>0</td><td>1</td><td>5</td><td>0.669</td></tr>\n",
       "\t<tr><th scope=row>4</th><td>1</td><td>1</td><td>0</td><td>1</td><td>0</td><td>1</td><td>5</td><td>0.664</td></tr>\n",
       "\t<tr><th scope=row>4</th><td>1</td><td>0</td><td>1</td><td>1</td><td>0</td><td>1</td><td>5</td><td>0.653</td></tr>\n",
       "\t<tr><th scope=row>4</th><td>1</td><td>1</td><td>1</td><td>0</td><td>1</td><td>0</td><td>5</td><td>0.653</td></tr>\n",
       "\t<tr><th scope=row>4</th><td>1</td><td>1</td><td>1</td><td>1</td><td>0</td><td>0</td><td>5</td><td>0.648</td></tr>\n",
       "\t<tr><th scope=row>5</th><td>1</td><td>0</td><td>1</td><td>1</td><td>1</td><td>1</td><td>6</td><td>0.705</td></tr>\n",
       "\t<tr><th scope=row>5</th><td>1</td><td>1</td><td>0</td><td>1</td><td>1</td><td>1</td><td>6</td><td>0.703</td></tr>\n",
       "\t<tr><th scope=row>5</th><td>1</td><td>1</td><td>1</td><td>0</td><td>1</td><td>1</td><td>6</td><td>0.701</td></tr>\n",
       "\t<tr><th scope=row>5</th><td>1</td><td>1</td><td>1</td><td>1</td><td>0</td><td>1</td><td>6</td><td>0.675</td></tr>\n",
       "\t<tr><th scope=row>5</th><td>1</td><td>1</td><td>1</td><td>1</td><td>1</td><td>0</td><td>6</td><td>0.671</td></tr>\n",
       "\t<tr><th scope=row>5</th><td>0</td><td>1</td><td>1</td><td>1</td><td>1</td><td>1</td><td>6</td><td>0.418</td></tr>\n",
       "\t<tr><th scope=row>6</th><td>1</td><td>1</td><td>1</td><td>1</td><td>1</td><td>1</td><td>7</td><td>0.705</td></tr>\n",
       "</tbody>\n",
       "</table>\n"
      ],
      "text/latex": [
       "A matrix: 43 × 8 of type dbl\n",
       "\\begin{tabular}{r|llllllll}\n",
       "  & Horsepower & Length & Luggage & Uturn & Wheelbase & Width & num of parameters & r2\\\\\n",
       "\\hline\n",
       "\t1 & 1 & 0 & 0 & 0 & 0 & 0 & 2 & 0.620\\\\\n",
       "\t1 & 0 & 0 & 0 & 0 & 1 & 0 & 2 & 0.395\\\\\n",
       "\t1 & 0 & 1 & 0 & 0 & 0 & 0 & 2 & 0.305\\\\\n",
       "\t1 & 0 & 0 & 0 & 0 & 0 & 1 & 2 & 0.245\\\\\n",
       "\t1 & 0 & 0 & 0 & 1 & 0 & 0 & 2 & 0.181\\\\\n",
       "\t1 & 0 & 0 & 1 & 0 & 0 & 0 & 2 & 0.134\\\\\n",
       "\t2 & 1 & 0 & 0 & 0 & 1 & 0 & 3 & 0.640\\\\\n",
       "\t2 & 1 & 0 & 1 & 0 & 0 & 0 & 3 & 0.628\\\\\n",
       "\t2 & 1 & 0 & 0 & 0 & 0 & 1 & 3 & 0.624\\\\\n",
       "\t2 & 1 & 1 & 0 & 0 & 0 & 0 & 3 & 0.623\\\\\n",
       "\t2 & 1 & 0 & 0 & 1 & 0 & 0 & 3 & 0.623\\\\\n",
       "\t2 & 0 & 0 & 1 & 0 & 1 & 0 & 3 & 0.414\\\\\n",
       "\t2 & 0 & 0 & 0 & 0 & 1 & 1 & 3 & 0.400\\\\\n",
       "\t2 & 0 & 0 & 0 & 1 & 1 & 0 & 3 & 0.399\\\\\n",
       "\t2 & 0 & 1 & 0 & 0 & 1 & 0 & 3 & 0.397\\\\\n",
       "\t2 & 0 & 1 & 0 & 1 & 0 & 0 & 3 & 0.306\\\\\n",
       "\t3 & 1 & 0 & 0 & 0 & 1 & 1 & 4 & 0.699\\\\\n",
       "\t3 & 1 & 0 & 0 & 1 & 1 & 0 & 4 & 0.670\\\\\n",
       "\t3 & 1 & 1 & 0 & 0 & 0 & 1 & 4 & 0.658\\\\\n",
       "\t3 & 1 & 1 & 0 & 0 & 1 & 0 & 4 & 0.653\\\\\n",
       "\t3 & 1 & 0 & 1 & 0 & 0 & 1 & 4 & 0.652\\\\\n",
       "\t3 & 1 & 1 & 0 & 1 & 0 & 0 & 4 & 0.642\\\\\n",
       "\t3 & 1 & 0 & 1 & 1 & 0 & 0 & 4 & 0.642\\\\\n",
       "\t3 & 1 & 0 & 1 & 0 & 1 & 0 & 4 & 0.640\\\\\n",
       "\t3 & 1 & 1 & 1 & 0 & 0 & 0 & 4 & 0.628\\\\\n",
       "\t3 & 1 & 0 & 0 & 1 & 0 & 1 & 4 & 0.624\\\\\n",
       "\t4 & 1 & 0 & 0 & 1 & 1 & 1 & 5 & 0.703\\\\\n",
       "\t4 & 1 & 0 & 1 & 0 & 1 & 1 & 5 & 0.701\\\\\n",
       "\t4 & 1 & 1 & 0 & 0 & 1 & 1 & 5 & 0.699\\\\\n",
       "\t4 & 1 & 1 & 0 & 1 & 1 & 0 & 5 & 0.671\\\\\n",
       "\t4 & 1 & 0 & 1 & 1 & 1 & 0 & 5 & 0.670\\\\\n",
       "\t4 & 1 & 1 & 1 & 0 & 0 & 1 & 5 & 0.669\\\\\n",
       "\t4 & 1 & 1 & 0 & 1 & 0 & 1 & 5 & 0.664\\\\\n",
       "\t4 & 1 & 0 & 1 & 1 & 0 & 1 & 5 & 0.653\\\\\n",
       "\t4 & 1 & 1 & 1 & 0 & 1 & 0 & 5 & 0.653\\\\\n",
       "\t4 & 1 & 1 & 1 & 1 & 0 & 0 & 5 & 0.648\\\\\n",
       "\t5 & 1 & 0 & 1 & 1 & 1 & 1 & 6 & 0.705\\\\\n",
       "\t5 & 1 & 1 & 0 & 1 & 1 & 1 & 6 & 0.703\\\\\n",
       "\t5 & 1 & 1 & 1 & 0 & 1 & 1 & 6 & 0.701\\\\\n",
       "\t5 & 1 & 1 & 1 & 1 & 0 & 1 & 6 & 0.675\\\\\n",
       "\t5 & 1 & 1 & 1 & 1 & 1 & 0 & 6 & 0.671\\\\\n",
       "\t5 & 0 & 1 & 1 & 1 & 1 & 1 & 6 & 0.418\\\\\n",
       "\t6 & 1 & 1 & 1 & 1 & 1 & 1 & 7 & 0.705\\\\\n",
       "\\end{tabular}\n"
      ],
      "text/markdown": [
       "\n",
       "A matrix: 43 × 8 of type dbl\n",
       "\n",
       "| <!--/--> | Horsepower | Length | Luggage | Uturn | Wheelbase | Width | num of parameters | r2 |\n",
       "|---|---|---|---|---|---|---|---|---|\n",
       "| 1 | 1 | 0 | 0 | 0 | 0 | 0 | 2 | 0.620 |\n",
       "| 1 | 0 | 0 | 0 | 0 | 1 | 0 | 2 | 0.395 |\n",
       "| 1 | 0 | 1 | 0 | 0 | 0 | 0 | 2 | 0.305 |\n",
       "| 1 | 0 | 0 | 0 | 0 | 0 | 1 | 2 | 0.245 |\n",
       "| 1 | 0 | 0 | 0 | 1 | 0 | 0 | 2 | 0.181 |\n",
       "| 1 | 0 | 0 | 1 | 0 | 0 | 0 | 2 | 0.134 |\n",
       "| 2 | 1 | 0 | 0 | 0 | 1 | 0 | 3 | 0.640 |\n",
       "| 2 | 1 | 0 | 1 | 0 | 0 | 0 | 3 | 0.628 |\n",
       "| 2 | 1 | 0 | 0 | 0 | 0 | 1 | 3 | 0.624 |\n",
       "| 2 | 1 | 1 | 0 | 0 | 0 | 0 | 3 | 0.623 |\n",
       "| 2 | 1 | 0 | 0 | 1 | 0 | 0 | 3 | 0.623 |\n",
       "| 2 | 0 | 0 | 1 | 0 | 1 | 0 | 3 | 0.414 |\n",
       "| 2 | 0 | 0 | 0 | 0 | 1 | 1 | 3 | 0.400 |\n",
       "| 2 | 0 | 0 | 0 | 1 | 1 | 0 | 3 | 0.399 |\n",
       "| 2 | 0 | 1 | 0 | 0 | 1 | 0 | 3 | 0.397 |\n",
       "| 2 | 0 | 1 | 0 | 1 | 0 | 0 | 3 | 0.306 |\n",
       "| 3 | 1 | 0 | 0 | 0 | 1 | 1 | 4 | 0.699 |\n",
       "| 3 | 1 | 0 | 0 | 1 | 1 | 0 | 4 | 0.670 |\n",
       "| 3 | 1 | 1 | 0 | 0 | 0 | 1 | 4 | 0.658 |\n",
       "| 3 | 1 | 1 | 0 | 0 | 1 | 0 | 4 | 0.653 |\n",
       "| 3 | 1 | 0 | 1 | 0 | 0 | 1 | 4 | 0.652 |\n",
       "| 3 | 1 | 1 | 0 | 1 | 0 | 0 | 4 | 0.642 |\n",
       "| 3 | 1 | 0 | 1 | 1 | 0 | 0 | 4 | 0.642 |\n",
       "| 3 | 1 | 0 | 1 | 0 | 1 | 0 | 4 | 0.640 |\n",
       "| 3 | 1 | 1 | 1 | 0 | 0 | 0 | 4 | 0.628 |\n",
       "| 3 | 1 | 0 | 0 | 1 | 0 | 1 | 4 | 0.624 |\n",
       "| 4 | 1 | 0 | 0 | 1 | 1 | 1 | 5 | 0.703 |\n",
       "| 4 | 1 | 0 | 1 | 0 | 1 | 1 | 5 | 0.701 |\n",
       "| 4 | 1 | 1 | 0 | 0 | 1 | 1 | 5 | 0.699 |\n",
       "| 4 | 1 | 1 | 0 | 1 | 1 | 0 | 5 | 0.671 |\n",
       "| 4 | 1 | 0 | 1 | 1 | 1 | 0 | 5 | 0.670 |\n",
       "| 4 | 1 | 1 | 1 | 0 | 0 | 1 | 5 | 0.669 |\n",
       "| 4 | 1 | 1 | 0 | 1 | 0 | 1 | 5 | 0.664 |\n",
       "| 4 | 1 | 0 | 1 | 1 | 0 | 1 | 5 | 0.653 |\n",
       "| 4 | 1 | 1 | 1 | 0 | 1 | 0 | 5 | 0.653 |\n",
       "| 4 | 1 | 1 | 1 | 1 | 0 | 0 | 5 | 0.648 |\n",
       "| 5 | 1 | 0 | 1 | 1 | 1 | 1 | 6 | 0.705 |\n",
       "| 5 | 1 | 1 | 0 | 1 | 1 | 1 | 6 | 0.703 |\n",
       "| 5 | 1 | 1 | 1 | 0 | 1 | 1 | 6 | 0.701 |\n",
       "| 5 | 1 | 1 | 1 | 1 | 0 | 1 | 6 | 0.675 |\n",
       "| 5 | 1 | 1 | 1 | 1 | 1 | 0 | 6 | 0.671 |\n",
       "| 5 | 0 | 1 | 1 | 1 | 1 | 1 | 6 | 0.418 |\n",
       "| 6 | 1 | 1 | 1 | 1 | 1 | 1 | 7 | 0.705 |\n",
       "\n"
      ],
      "text/plain": [
       "  Horsepower Length Luggage Uturn Wheelbase Width num of parameters r2   \n",
       "1 1          0      0       0     0         0     2                 0.620\n",
       "1 0          0      0       0     1         0     2                 0.395\n",
       "1 0          1      0       0     0         0     2                 0.305\n",
       "1 0          0      0       0     0         1     2                 0.245\n",
       "1 0          0      0       1     0         0     2                 0.181\n",
       "1 0          0      1       0     0         0     2                 0.134\n",
       "2 1          0      0       0     1         0     3                 0.640\n",
       "2 1          0      1       0     0         0     3                 0.628\n",
       "2 1          0      0       0     0         1     3                 0.624\n",
       "2 1          1      0       0     0         0     3                 0.623\n",
       "2 1          0      0       1     0         0     3                 0.623\n",
       "2 0          0      1       0     1         0     3                 0.414\n",
       "2 0          0      0       0     1         1     3                 0.400\n",
       "2 0          0      0       1     1         0     3                 0.399\n",
       "2 0          1      0       0     1         0     3                 0.397\n",
       "2 0          1      0       1     0         0     3                 0.306\n",
       "3 1          0      0       0     1         1     4                 0.699\n",
       "3 1          0      0       1     1         0     4                 0.670\n",
       "3 1          1      0       0     0         1     4                 0.658\n",
       "3 1          1      0       0     1         0     4                 0.653\n",
       "3 1          0      1       0     0         1     4                 0.652\n",
       "3 1          1      0       1     0         0     4                 0.642\n",
       "3 1          0      1       1     0         0     4                 0.642\n",
       "3 1          0      1       0     1         0     4                 0.640\n",
       "3 1          1      1       0     0         0     4                 0.628\n",
       "3 1          0      0       1     0         1     4                 0.624\n",
       "4 1          0      0       1     1         1     5                 0.703\n",
       "4 1          0      1       0     1         1     5                 0.701\n",
       "4 1          1      0       0     1         1     5                 0.699\n",
       "4 1          1      0       1     1         0     5                 0.671\n",
       "4 1          0      1       1     1         0     5                 0.670\n",
       "4 1          1      1       0     0         1     5                 0.669\n",
       "4 1          1      0       1     0         1     5                 0.664\n",
       "4 1          0      1       1     0         1     5                 0.653\n",
       "4 1          1      1       0     1         0     5                 0.653\n",
       "4 1          1      1       1     0         0     5                 0.648\n",
       "5 1          0      1       1     1         1     6                 0.705\n",
       "5 1          1      0       1     1         1     6                 0.703\n",
       "5 1          1      1       0     1         1     6                 0.701\n",
       "5 1          1      1       1     0         1     6                 0.675\n",
       "5 1          1      1       1     1         0     6                 0.671\n",
       "5 0          1      1       1     1         1     6                 0.418\n",
       "6 1          1      1       1     1         1     7                 0.705"
      ]
     },
     "metadata": {},
     "output_type": "display_data"
    }
   ],
   "source": [
    "leaps_function <- leaps(x = cars.df[2:7], y = MidrangePrice, method = c(\"r2\"))\n",
    "df <- cbind(leaps_function$which,leaps_function$size, leaps_function$r2)\n",
    "colnames(df) <- c(\"Horsepower\",\"Length\",\"Luggage\",\"Uturn\",\"Wheelbase\",\"Width\",\"num of parameters\",\"r2\")\n",
    "round(df, digits=3)\n"
   ]
  },
  {
   "cell_type": "markdown",
   "metadata": {},
   "source": [
    "### Interpretation"
   ]
  },
  {
   "cell_type": "markdown",
   "metadata": {},
   "source": [
    "1. The number of parameters in the model icludes the intercept and the explanatory variables\n",
    "2. R2 values are used to select the best model in each category ( the higher, the better).\n",
    "3. The best model with 2 parameters has Intercept and Horsepower\n",
    "4. The best model with 3 parameters has Intercept, Horsepower and Wheelbase\n",
    "5. The best model with 4 parameters has Intercept, Horsepower, Wheelbase and Width\n",
    "6. The best model with 5 parameters has Intercept, Horsepower, Wheelbase, Width and Uturn\n",
    "6. The best model with 6 parameters has Intercept, Horsepower, Wheelbase, Width, Uturn and Luggage"
   ]
  },
  {
   "cell_type": "markdown",
   "metadata": {},
   "source": [
    "## Selection of the model with the most explantory variables from all-possible-variables subsets  \n",
    "### Mallow's CP<br>\n",
    "Mallow's CP is used to select the optimal number of variables in models generated using the all-possible-variables subsets technique."
   ]
  },
  {
   "cell_type": "code",
   "execution_count": 5,
   "metadata": {},
   "outputs": [
    {
     "data": {
      "text/html": [
       "<table class=\"dataframe\">\n",
       "<caption>A matrix: 43 × 8 of type dbl</caption>\n",
       "<thead>\n",
       "\t<tr><th></th><th scope=col>Horsepower</th><th scope=col>Length</th><th scope=col>Luggage</th><th scope=col>Uturn</th><th scope=col>Wheelbase</th><th scope=col>Width</th><th scope=col>number of variables</th><th scope=col>cp</th></tr>\n",
       "</thead>\n",
       "<tbody>\n",
       "\t<tr><th scope=row>1</th><td>1</td><td>0</td><td>0</td><td>0</td><td>0</td><td>0</td><td>2</td><td> 18.747</td></tr>\n",
       "\t<tr><th scope=row>1</th><td>0</td><td>0</td><td>0</td><td>0</td><td>1</td><td>0</td><td>2</td><td> 75.975</td></tr>\n",
       "\t<tr><th scope=row>1</th><td>0</td><td>1</td><td>0</td><td>0</td><td>0</td><td>0</td><td>2</td><td> 98.886</td></tr>\n",
       "\t<tr><th scope=row>1</th><td>0</td><td>0</td><td>0</td><td>0</td><td>0</td><td>1</td><td>2</td><td>114.075</td></tr>\n",
       "\t<tr><th scope=row>1</th><td>0</td><td>0</td><td>0</td><td>1</td><td>0</td><td>0</td><td>2</td><td>130.510</td></tr>\n",
       "\t<tr><th scope=row>1</th><td>0</td><td>0</td><td>1</td><td>0</td><td>0</td><td>0</td><td>2</td><td>142.249</td></tr>\n",
       "\t<tr><th scope=row>2</th><td>1</td><td>0</td><td>0</td><td>0</td><td>1</td><td>0</td><td>3</td><td> 15.605</td></tr>\n",
       "\t<tr><th scope=row>2</th><td>1</td><td>0</td><td>1</td><td>0</td><td>0</td><td>0</td><td>3</td><td> 18.696</td></tr>\n",
       "\t<tr><th scope=row>2</th><td>1</td><td>0</td><td>0</td><td>0</td><td>0</td><td>1</td><td>3</td><td> 19.677</td></tr>\n",
       "\t<tr><th scope=row>2</th><td>1</td><td>1</td><td>0</td><td>0</td><td>0</td><td>0</td><td>3</td><td> 19.840</td></tr>\n",
       "\t<tr><th scope=row>2</th><td>1</td><td>0</td><td>0</td><td>1</td><td>0</td><td>0</td><td>3</td><td> 19.905</td></tr>\n",
       "\t<tr><th scope=row>2</th><td>0</td><td>0</td><td>1</td><td>0</td><td>1</td><td>0</td><td>3</td><td> 73.023</td></tr>\n",
       "\t<tr><th scope=row>2</th><td>0</td><td>0</td><td>0</td><td>0</td><td>1</td><td>1</td><td>3</td><td> 76.579</td></tr>\n",
       "\t<tr><th scope=row>2</th><td>0</td><td>0</td><td>0</td><td>1</td><td>1</td><td>0</td><td>3</td><td> 76.876</td></tr>\n",
       "\t<tr><th scope=row>2</th><td>0</td><td>1</td><td>0</td><td>0</td><td>1</td><td>0</td><td>3</td><td> 77.352</td></tr>\n",
       "\t<tr><th scope=row>2</th><td>0</td><td>1</td><td>0</td><td>1</td><td>0</td><td>0</td><td>3</td><td>100.489</td></tr>\n",
       "\t<tr><th scope=row>3</th><td>1</td><td>0</td><td>0</td><td>0</td><td>1</td><td>1</td><td>4</td><td>  2.503</td></tr>\n",
       "\t<tr><th scope=row>3</th><td>1</td><td>0</td><td>0</td><td>1</td><td>1</td><td>0</td><td>4</td><td> 10.032</td></tr>\n",
       "\t<tr><th scope=row>3</th><td>1</td><td>1</td><td>0</td><td>0</td><td>0</td><td>1</td><td>4</td><td> 13.106</td></tr>\n",
       "\t<tr><th scope=row>3</th><td>1</td><td>1</td><td>0</td><td>0</td><td>1</td><td>0</td><td>4</td><td> 14.341</td></tr>\n",
       "\t<tr><th scope=row>3</th><td>1</td><td>0</td><td>1</td><td>0</td><td>0</td><td>1</td><td>4</td><td> 14.489</td></tr>\n",
       "\t<tr><th scope=row>3</th><td>1</td><td>1</td><td>0</td><td>1</td><td>0</td><td>0</td><td>4</td><td> 17.009</td></tr>\n",
       "\t<tr><th scope=row>3</th><td>1</td><td>0</td><td>1</td><td>1</td><td>0</td><td>0</td><td>4</td><td> 17.194</td></tr>\n",
       "\t<tr><th scope=row>3</th><td>1</td><td>0</td><td>1</td><td>0</td><td>1</td><td>0</td><td>4</td><td> 17.541</td></tr>\n",
       "\t<tr><th scope=row>3</th><td>1</td><td>1</td><td>1</td><td>0</td><td>0</td><td>0</td><td>4</td><td> 20.696</td></tr>\n",
       "\t<tr><th scope=row>3</th><td>1</td><td>0</td><td>0</td><td>1</td><td>0</td><td>1</td><td>4</td><td> 21.606</td></tr>\n",
       "\t<tr><th scope=row>4</th><td>1</td><td>0</td><td>0</td><td>1</td><td>1</td><td>1</td><td>5</td><td>  3.646</td></tr>\n",
       "\t<tr><th scope=row>4</th><td>1</td><td>0</td><td>1</td><td>0</td><td>1</td><td>1</td><td>5</td><td>  4.028</td></tr>\n",
       "\t<tr><th scope=row>4</th><td>1</td><td>1</td><td>0</td><td>0</td><td>1</td><td>1</td><td>5</td><td>  4.483</td></tr>\n",
       "\t<tr><th scope=row>4</th><td>1</td><td>1</td><td>0</td><td>1</td><td>1</td><td>0</td><td>5</td><td> 11.687</td></tr>\n",
       "\t<tr><th scope=row>4</th><td>1</td><td>0</td><td>1</td><td>1</td><td>1</td><td>0</td><td>5</td><td> 12.012</td></tr>\n",
       "\t<tr><th scope=row>4</th><td>1</td><td>1</td><td>1</td><td>0</td><td>0</td><td>1</td><td>5</td><td> 12.136</td></tr>\n",
       "\t<tr><th scope=row>4</th><td>1</td><td>1</td><td>0</td><td>1</td><td>0</td><td>1</td><td>5</td><td> 13.528</td></tr>\n",
       "\t<tr><th scope=row>4</th><td>1</td><td>0</td><td>1</td><td>1</td><td>0</td><td>1</td><td>5</td><td> 16.215</td></tr>\n",
       "\t<tr><th scope=row>4</th><td>1</td><td>1</td><td>1</td><td>0</td><td>1</td><td>0</td><td>5</td><td> 16.330</td></tr>\n",
       "\t<tr><th scope=row>4</th><td>1</td><td>1</td><td>1</td><td>1</td><td>0</td><td>0</td><td>5</td><td> 17.620</td></tr>\n",
       "\t<tr><th scope=row>5</th><td>1</td><td>0</td><td>1</td><td>1</td><td>1</td><td>1</td><td>6</td><td>  5.133</td></tr>\n",
       "\t<tr><th scope=row>5</th><td>1</td><td>1</td><td>0</td><td>1</td><td>1</td><td>1</td><td>6</td><td>  5.462</td></tr>\n",
       "\t<tr><th scope=row>5</th><td>1</td><td>1</td><td>1</td><td>0</td><td>1</td><td>1</td><td>6</td><td>  6.022</td></tr>\n",
       "\t<tr><th scope=row>5</th><td>1</td><td>1</td><td>1</td><td>1</td><td>0</td><td>1</td><td>6</td><td> 12.663</td></tr>\n",
       "\t<tr><th scope=row>5</th><td>1</td><td>1</td><td>1</td><td>1</td><td>1</td><td>0</td><td>6</td><td> 13.633</td></tr>\n",
       "\t<tr><th scope=row>5</th><td>0</td><td>1</td><td>1</td><td>1</td><td>1</td><td>1</td><td>6</td><td> 78.002</td></tr>\n",
       "\t<tr><th scope=row>6</th><td>1</td><td>1</td><td>1</td><td>1</td><td>1</td><td>1</td><td>7</td><td>  7.000</td></tr>\n",
       "</tbody>\n",
       "</table>\n"
      ],
      "text/latex": [
       "A matrix: 43 × 8 of type dbl\n",
       "\\begin{tabular}{r|llllllll}\n",
       "  & Horsepower & Length & Luggage & Uturn & Wheelbase & Width & number of variables & cp\\\\\n",
       "\\hline\n",
       "\t1 & 1 & 0 & 0 & 0 & 0 & 0 & 2 &  18.747\\\\\n",
       "\t1 & 0 & 0 & 0 & 0 & 1 & 0 & 2 &  75.975\\\\\n",
       "\t1 & 0 & 1 & 0 & 0 & 0 & 0 & 2 &  98.886\\\\\n",
       "\t1 & 0 & 0 & 0 & 0 & 0 & 1 & 2 & 114.075\\\\\n",
       "\t1 & 0 & 0 & 0 & 1 & 0 & 0 & 2 & 130.510\\\\\n",
       "\t1 & 0 & 0 & 1 & 0 & 0 & 0 & 2 & 142.249\\\\\n",
       "\t2 & 1 & 0 & 0 & 0 & 1 & 0 & 3 &  15.605\\\\\n",
       "\t2 & 1 & 0 & 1 & 0 & 0 & 0 & 3 &  18.696\\\\\n",
       "\t2 & 1 & 0 & 0 & 0 & 0 & 1 & 3 &  19.677\\\\\n",
       "\t2 & 1 & 1 & 0 & 0 & 0 & 0 & 3 &  19.840\\\\\n",
       "\t2 & 1 & 0 & 0 & 1 & 0 & 0 & 3 &  19.905\\\\\n",
       "\t2 & 0 & 0 & 1 & 0 & 1 & 0 & 3 &  73.023\\\\\n",
       "\t2 & 0 & 0 & 0 & 0 & 1 & 1 & 3 &  76.579\\\\\n",
       "\t2 & 0 & 0 & 0 & 1 & 1 & 0 & 3 &  76.876\\\\\n",
       "\t2 & 0 & 1 & 0 & 0 & 1 & 0 & 3 &  77.352\\\\\n",
       "\t2 & 0 & 1 & 0 & 1 & 0 & 0 & 3 & 100.489\\\\\n",
       "\t3 & 1 & 0 & 0 & 0 & 1 & 1 & 4 &   2.503\\\\\n",
       "\t3 & 1 & 0 & 0 & 1 & 1 & 0 & 4 &  10.032\\\\\n",
       "\t3 & 1 & 1 & 0 & 0 & 0 & 1 & 4 &  13.106\\\\\n",
       "\t3 & 1 & 1 & 0 & 0 & 1 & 0 & 4 &  14.341\\\\\n",
       "\t3 & 1 & 0 & 1 & 0 & 0 & 1 & 4 &  14.489\\\\\n",
       "\t3 & 1 & 1 & 0 & 1 & 0 & 0 & 4 &  17.009\\\\\n",
       "\t3 & 1 & 0 & 1 & 1 & 0 & 0 & 4 &  17.194\\\\\n",
       "\t3 & 1 & 0 & 1 & 0 & 1 & 0 & 4 &  17.541\\\\\n",
       "\t3 & 1 & 1 & 1 & 0 & 0 & 0 & 4 &  20.696\\\\\n",
       "\t3 & 1 & 0 & 0 & 1 & 0 & 1 & 4 &  21.606\\\\\n",
       "\t4 & 1 & 0 & 0 & 1 & 1 & 1 & 5 &   3.646\\\\\n",
       "\t4 & 1 & 0 & 1 & 0 & 1 & 1 & 5 &   4.028\\\\\n",
       "\t4 & 1 & 1 & 0 & 0 & 1 & 1 & 5 &   4.483\\\\\n",
       "\t4 & 1 & 1 & 0 & 1 & 1 & 0 & 5 &  11.687\\\\\n",
       "\t4 & 1 & 0 & 1 & 1 & 1 & 0 & 5 &  12.012\\\\\n",
       "\t4 & 1 & 1 & 1 & 0 & 0 & 1 & 5 &  12.136\\\\\n",
       "\t4 & 1 & 1 & 0 & 1 & 0 & 1 & 5 &  13.528\\\\\n",
       "\t4 & 1 & 0 & 1 & 1 & 0 & 1 & 5 &  16.215\\\\\n",
       "\t4 & 1 & 1 & 1 & 0 & 1 & 0 & 5 &  16.330\\\\\n",
       "\t4 & 1 & 1 & 1 & 1 & 0 & 0 & 5 &  17.620\\\\\n",
       "\t5 & 1 & 0 & 1 & 1 & 1 & 1 & 6 &   5.133\\\\\n",
       "\t5 & 1 & 1 & 0 & 1 & 1 & 1 & 6 &   5.462\\\\\n",
       "\t5 & 1 & 1 & 1 & 0 & 1 & 1 & 6 &   6.022\\\\\n",
       "\t5 & 1 & 1 & 1 & 1 & 0 & 1 & 6 &  12.663\\\\\n",
       "\t5 & 1 & 1 & 1 & 1 & 1 & 0 & 6 &  13.633\\\\\n",
       "\t5 & 0 & 1 & 1 & 1 & 1 & 1 & 6 &  78.002\\\\\n",
       "\t6 & 1 & 1 & 1 & 1 & 1 & 1 & 7 &   7.000\\\\\n",
       "\\end{tabular}\n"
      ],
      "text/markdown": [
       "\n",
       "A matrix: 43 × 8 of type dbl\n",
       "\n",
       "| <!--/--> | Horsepower | Length | Luggage | Uturn | Wheelbase | Width | number of variables | cp |\n",
       "|---|---|---|---|---|---|---|---|---|\n",
       "| 1 | 1 | 0 | 0 | 0 | 0 | 0 | 2 |  18.747 |\n",
       "| 1 | 0 | 0 | 0 | 0 | 1 | 0 | 2 |  75.975 |\n",
       "| 1 | 0 | 1 | 0 | 0 | 0 | 0 | 2 |  98.886 |\n",
       "| 1 | 0 | 0 | 0 | 0 | 0 | 1 | 2 | 114.075 |\n",
       "| 1 | 0 | 0 | 0 | 1 | 0 | 0 | 2 | 130.510 |\n",
       "| 1 | 0 | 0 | 1 | 0 | 0 | 0 | 2 | 142.249 |\n",
       "| 2 | 1 | 0 | 0 | 0 | 1 | 0 | 3 |  15.605 |\n",
       "| 2 | 1 | 0 | 1 | 0 | 0 | 0 | 3 |  18.696 |\n",
       "| 2 | 1 | 0 | 0 | 0 | 0 | 1 | 3 |  19.677 |\n",
       "| 2 | 1 | 1 | 0 | 0 | 0 | 0 | 3 |  19.840 |\n",
       "| 2 | 1 | 0 | 0 | 1 | 0 | 0 | 3 |  19.905 |\n",
       "| 2 | 0 | 0 | 1 | 0 | 1 | 0 | 3 |  73.023 |\n",
       "| 2 | 0 | 0 | 0 | 0 | 1 | 1 | 3 |  76.579 |\n",
       "| 2 | 0 | 0 | 0 | 1 | 1 | 0 | 3 |  76.876 |\n",
       "| 2 | 0 | 1 | 0 | 0 | 1 | 0 | 3 |  77.352 |\n",
       "| 2 | 0 | 1 | 0 | 1 | 0 | 0 | 3 | 100.489 |\n",
       "| 3 | 1 | 0 | 0 | 0 | 1 | 1 | 4 |   2.503 |\n",
       "| 3 | 1 | 0 | 0 | 1 | 1 | 0 | 4 |  10.032 |\n",
       "| 3 | 1 | 1 | 0 | 0 | 0 | 1 | 4 |  13.106 |\n",
       "| 3 | 1 | 1 | 0 | 0 | 1 | 0 | 4 |  14.341 |\n",
       "| 3 | 1 | 0 | 1 | 0 | 0 | 1 | 4 |  14.489 |\n",
       "| 3 | 1 | 1 | 0 | 1 | 0 | 0 | 4 |  17.009 |\n",
       "| 3 | 1 | 0 | 1 | 1 | 0 | 0 | 4 |  17.194 |\n",
       "| 3 | 1 | 0 | 1 | 0 | 1 | 0 | 4 |  17.541 |\n",
       "| 3 | 1 | 1 | 1 | 0 | 0 | 0 | 4 |  20.696 |\n",
       "| 3 | 1 | 0 | 0 | 1 | 0 | 1 | 4 |  21.606 |\n",
       "| 4 | 1 | 0 | 0 | 1 | 1 | 1 | 5 |   3.646 |\n",
       "| 4 | 1 | 0 | 1 | 0 | 1 | 1 | 5 |   4.028 |\n",
       "| 4 | 1 | 1 | 0 | 0 | 1 | 1 | 5 |   4.483 |\n",
       "| 4 | 1 | 1 | 0 | 1 | 1 | 0 | 5 |  11.687 |\n",
       "| 4 | 1 | 0 | 1 | 1 | 1 | 0 | 5 |  12.012 |\n",
       "| 4 | 1 | 1 | 1 | 0 | 0 | 1 | 5 |  12.136 |\n",
       "| 4 | 1 | 1 | 0 | 1 | 0 | 1 | 5 |  13.528 |\n",
       "| 4 | 1 | 0 | 1 | 1 | 0 | 1 | 5 |  16.215 |\n",
       "| 4 | 1 | 1 | 1 | 0 | 1 | 0 | 5 |  16.330 |\n",
       "| 4 | 1 | 1 | 1 | 1 | 0 | 0 | 5 |  17.620 |\n",
       "| 5 | 1 | 0 | 1 | 1 | 1 | 1 | 6 |   5.133 |\n",
       "| 5 | 1 | 1 | 0 | 1 | 1 | 1 | 6 |   5.462 |\n",
       "| 5 | 1 | 1 | 1 | 0 | 1 | 1 | 6 |   6.022 |\n",
       "| 5 | 1 | 1 | 1 | 1 | 0 | 1 | 6 |  12.663 |\n",
       "| 5 | 1 | 1 | 1 | 1 | 1 | 0 | 6 |  13.633 |\n",
       "| 5 | 0 | 1 | 1 | 1 | 1 | 1 | 6 |  78.002 |\n",
       "| 6 | 1 | 1 | 1 | 1 | 1 | 1 | 7 |   7.000 |\n",
       "\n"
      ],
      "text/plain": [
       "  Horsepower Length Luggage Uturn Wheelbase Width number of variables cp     \n",
       "1 1          0      0       0     0         0     2                    18.747\n",
       "1 0          0      0       0     1         0     2                    75.975\n",
       "1 0          1      0       0     0         0     2                    98.886\n",
       "1 0          0      0       0     0         1     2                   114.075\n",
       "1 0          0      0       1     0         0     2                   130.510\n",
       "1 0          0      1       0     0         0     2                   142.249\n",
       "2 1          0      0       0     1         0     3                    15.605\n",
       "2 1          0      1       0     0         0     3                    18.696\n",
       "2 1          0      0       0     0         1     3                    19.677\n",
       "2 1          1      0       0     0         0     3                    19.840\n",
       "2 1          0      0       1     0         0     3                    19.905\n",
       "2 0          0      1       0     1         0     3                    73.023\n",
       "2 0          0      0       0     1         1     3                    76.579\n",
       "2 0          0      0       1     1         0     3                    76.876\n",
       "2 0          1      0       0     1         0     3                    77.352\n",
       "2 0          1      0       1     0         0     3                   100.489\n",
       "3 1          0      0       0     1         1     4                     2.503\n",
       "3 1          0      0       1     1         0     4                    10.032\n",
       "3 1          1      0       0     0         1     4                    13.106\n",
       "3 1          1      0       0     1         0     4                    14.341\n",
       "3 1          0      1       0     0         1     4                    14.489\n",
       "3 1          1      0       1     0         0     4                    17.009\n",
       "3 1          0      1       1     0         0     4                    17.194\n",
       "3 1          0      1       0     1         0     4                    17.541\n",
       "3 1          1      1       0     0         0     4                    20.696\n",
       "3 1          0      0       1     0         1     4                    21.606\n",
       "4 1          0      0       1     1         1     5                     3.646\n",
       "4 1          0      1       0     1         1     5                     4.028\n",
       "4 1          1      0       0     1         1     5                     4.483\n",
       "4 1          1      0       1     1         0     5                    11.687\n",
       "4 1          0      1       1     1         0     5                    12.012\n",
       "4 1          1      1       0     0         1     5                    12.136\n",
       "4 1          1      0       1     0         1     5                    13.528\n",
       "4 1          0      1       1     0         1     5                    16.215\n",
       "4 1          1      1       0     1         0     5                    16.330\n",
       "4 1          1      1       1     0         0     5                    17.620\n",
       "5 1          0      1       1     1         1     6                     5.133\n",
       "5 1          1      0       1     1         1     6                     5.462\n",
       "5 1          1      1       0     1         1     6                     6.022\n",
       "5 1          1      1       1     0         1     6                    12.663\n",
       "5 1          1      1       1     1         0     6                    13.633\n",
       "5 0          1      1       1     1         1     6                    78.002\n",
       "6 1          1      1       1     1         1     7                     7.000"
      ]
     },
     "metadata": {},
     "output_type": "display_data"
    }
   ],
   "source": [
    "leap.cp <- leaps(x = cars.df[2:7], y = MidrangePrice, method=\"Cp\")\n",
    "# Note that method is set to \"Cp\" in this leaps command\n",
    "df.cp <- cbind(leap.cp$which,leap.cp$size, leap.cp$Cp)\n",
    "colnames(df.cp) <- c(\"Horsepower\",\"Length\",\"Luggage\",\"Uturn\",\"Wheelbase\",\"Width\",\"number of variables\",\"cp\")\n",
    "round(df.cp, digits=3)"
   ]
  },
  {
   "cell_type": "code",
   "execution_count": 6,
   "metadata": {},
   "outputs": [
    {
     "data": {
      "image/png": "[encoded data removed]",
      "text/plain": [
       "Plot with title “CP plot”"
      ]
     },
     "metadata": {
      "image/png": {
       "height": 420,
       "width": 420
      }
     },
     "output_type": "display_data"
    }
   ],
   "source": [
    "plot(leap.cp$size, leap.cp$Cp, ylim=c(1,5), main = \"CP plot\")\n",
    "abline(a=0, b=1)"
   ]
  },
  {
   "cell_type": "markdown",
   "metadata": {},
   "source": [
    "The best model is the model with 4 parameters(Intercept + 3 variables) since a model with 4 parameters is the first  data point in the graph. To select the optimal variables, we return to the Cp table above, then among all the models with 4 parameters, we choose the model with the lowest Cp value.\n",
    "\n",
    "Hence, the most explanatory variables that affect the Mid-range price are Horsepower, Wheelbase and Width.\n",
    "\n",
    "The model selected by the all-possible-variables subsets technigue is given as \n",
    "\n",
    "*MidrangePrice ~ Horsepower + Wheelbase + Width*"
   ]
  },
  {
   "cell_type": "markdown",
   "metadata": {},
   "source": [
    "# Automatic stepwise variable selection techniques"
   ]
  },
  {
   "cell_type": "markdown",
   "metadata": {},
   "source": [
    "There are three types of stepwise variable selection techniques\n",
    "- Forward selection\n",
    "- Backward selection\n",
    "- Bidirectional selection"
   ]
  },
  {
   "cell_type": "markdown",
   "metadata": {},
   "source": [
    "### Forward selection"
   ]
  },
  {
   "cell_type": "code",
   "execution_count": 7,
   "metadata": {},
   "outputs": [
    {
     "name": "stdout",
     "output_type": "stream",
     "text": [
      "Start:  AIC=377.95\n",
      "MidrangePrice ~ 1\n",
      "\n",
      "             Df Sum of Sq    RSS    AIC\n",
      "+ Horsepower  1    4979.3 3054.9 300.66\n",
      "+ Wheelbase   1    3172.3 4862.0 338.76\n",
      "+ Length      1    2448.8 5585.4 350.14\n",
      "+ Width       1    1969.2 6065.0 356.89\n",
      "+ Uturn       1    1450.2 6584.0 363.63\n",
      "+ Luggage     1    1079.6 6954.7 368.12\n",
      "<none>                    8034.2 377.95\n",
      "\n",
      "Step:  AIC=300.66\n",
      "MidrangePrice ~ Horsepower\n",
      "\n",
      "            Df Sum of Sq    RSS    AIC\n",
      "+ Wheelbase  1   162.358 2892.5 298.18\n",
      "<none>                   3054.9 300.66\n",
      "+ Luggage    1    64.739 2990.2 300.90\n",
      "+ Width      1    33.758 3021.1 301.75\n",
      "+ Length     1    28.638 3026.3 301.89\n",
      "+ Uturn      1    26.582 3028.3 301.94\n",
      "\n",
      "Step:  AIC=298.18\n",
      "MidrangePrice ~ Horsepower + Wheelbase\n",
      "\n",
      "          Df Sum of Sq    RSS    AIC\n",
      "+ Width    1    476.86 2415.7 285.41\n",
      "+ Uturn    1    239.12 2653.4 293.11\n",
      "+ Length   1    103.05 2789.5 297.20\n",
      "<none>                 2892.5 298.18\n",
      "+ Luggage  1      2.01 2890.5 300.12\n",
      "\n",
      "Step:  AIC=285.41\n",
      "MidrangePrice ~ Horsepower + Wheelbase + Width\n",
      "\n",
      "          Df Sum of Sq    RSS    AIC\n",
      "<none>                 2415.7 285.41\n",
      "+ Uturn    1   27.0742 2388.6 286.48\n",
      "+ Luggage  1   15.0100 2400.7 286.90\n",
      "+ Length   1    0.6207 2415.1 287.39\n"
     ]
    }
   ],
   "source": [
    "model.forward <- step(lm(MidrangePrice ~ 1, data = cars.df), scope = ~ Horsepower+Length+Luggage+Uturn+Wheelbase+Width,\n",
    "direction = \"forward\", data = cars.df)"
   ]
  },
  {
   "cell_type": "markdown",
   "metadata": {},
   "source": [
    "The model generated by the Forward automatic variable selection method is given as:\n",
    "\n",
    "*MidrangePrice ~ Horsepower + Wheelbase + Width*"
   ]
  },
  {
   "cell_type": "markdown",
   "metadata": {},
   "source": [
    "### Backward selection"
   ]
  },
  {
   "cell_type": "code",
   "execution_count": 8,
   "metadata": {},
   "outputs": [
    {
     "name": "stdout",
     "output_type": "stream",
     "text": [
      "Start:  AIC=289.78\n",
      "MidrangePrice ~ Horsepower + Length + Luggage + Uturn + Wheelbase + \n",
      "    Width\n",
      "\n",
      "             Df Sum of Sq    RSS    AIC\n",
      "- Length      1      4.21 2372.4 287.93\n",
      "- Luggage     1     14.59 2382.8 288.28\n",
      "- Uturn       1     32.27 2400.5 288.89\n",
      "<none>                    2368.2 289.78\n",
      "- Wheelbase   1    241.98 2610.2 295.76\n",
      "- Width       1    272.60 2640.8 296.71\n",
      "- Horsepower  1   2305.15 4673.4 343.52\n",
      "\n",
      "Step:  AIC=287.93\n",
      "MidrangePrice ~ Horsepower + Luggage + Uturn + Wheelbase + Width\n",
      "\n",
      "             Df Sum of Sq    RSS    AIC\n",
      "- Luggage     1     16.17 2388.6 286.48\n",
      "- Uturn       1     28.23 2400.7 286.90\n",
      "<none>                    2372.4 287.93\n",
      "- Width       1    280.35 2652.8 295.09\n",
      "- Wheelbase   1    413.05 2785.5 299.09\n",
      "- Horsepower  1   2301.51 4673.9 341.53\n",
      "\n",
      "Step:  AIC=286.48\n",
      "MidrangePrice ~ Horsepower + Uturn + Wheelbase + Width\n",
      "\n",
      "             Df Sum of Sq    RSS    AIC\n",
      "- Uturn       1     27.07 2415.7 285.41\n",
      "<none>                    2388.6 286.48\n",
      "- Width       1    264.81 2653.4 293.10\n",
      "- Wheelbase   1    630.27 3018.9 303.69\n",
      "- Horsepower  1   2421.50 4810.1 341.88\n",
      "\n",
      "Step:  AIC=285.41\n",
      "MidrangePrice ~ Horsepower + Wheelbase + Width\n",
      "\n",
      "             Df Sum of Sq    RSS    AIC\n",
      "<none>                    2415.7 285.41\n",
      "- Width       1    476.86 2892.5 298.18\n",
      "- Wheelbase   1    605.46 3021.1 301.75\n",
      "- Horsepower  1   2402.21 4817.9 340.02\n"
     ]
    }
   ],
   "source": [
    "model.backward <- step(lm(MidrangePrice ~ Horsepower+Length+Luggage+Uturn+Wheelbase+Width, data = cars.df),\n",
    "direction = \"backward\")"
   ]
  },
  {
   "cell_type": "markdown",
   "metadata": {},
   "source": [
    "The model generated by the Backward automatic variable selection method is given as:\n",
    "\n",
    "*MidrangePrice ~ Horsepower + Wheelbase + Width*"
   ]
  },
  {
   "cell_type": "markdown",
   "metadata": {},
   "source": [
    "### Bidirectional selection technique"
   ]
  },
  {
   "cell_type": "code",
   "execution_count": 9,
   "metadata": {},
   "outputs": [
    {
     "name": "stdout",
     "output_type": "stream",
     "text": [
      "Start:  AIC=289.78\n",
      "MidrangePrice ~ Horsepower + Length + Luggage + Uturn + Wheelbase + \n",
      "    Width\n",
      "\n",
      "             Df Sum of Sq    RSS    AIC\n",
      "- Length      1      4.21 2372.4 287.93\n",
      "- Luggage     1     14.59 2382.8 288.28\n",
      "- Uturn       1     32.27 2400.5 288.89\n",
      "<none>                    2368.2 289.78\n",
      "- Wheelbase   1    241.98 2610.2 295.76\n",
      "- Width       1    272.60 2640.8 296.71\n",
      "- Horsepower  1   2305.15 4673.4 343.52\n",
      "\n",
      "Step:  AIC=287.93\n",
      "MidrangePrice ~ Horsepower + Luggage + Uturn + Wheelbase + Width\n",
      "\n",
      "             Df Sum of Sq    RSS    AIC\n",
      "- Luggage     1     16.17 2388.6 286.48\n",
      "- Uturn       1     28.23 2400.7 286.90\n",
      "<none>                    2372.4 287.93\n",
      "+ Length      1      4.21 2368.2 289.78\n",
      "- Width       1    280.35 2652.8 295.09\n",
      "- Wheelbase   1    413.05 2785.5 299.09\n",
      "- Horsepower  1   2301.51 4673.9 341.53\n",
      "\n",
      "Step:  AIC=286.48\n",
      "MidrangePrice ~ Horsepower + Uturn + Wheelbase + Width\n",
      "\n",
      "             Df Sum of Sq    RSS    AIC\n",
      "- Uturn       1     27.07 2415.7 285.41\n",
      "<none>                    2388.6 286.48\n",
      "+ Luggage     1     16.17 2372.4 287.93\n",
      "+ Length      1      5.79 2382.8 288.28\n",
      "- Width       1    264.81 2653.4 293.10\n",
      "- Wheelbase   1    630.27 3018.9 303.69\n",
      "- Horsepower  1   2421.50 4810.1 341.88\n",
      "\n",
      "Step:  AIC=285.41\n",
      "MidrangePrice ~ Horsepower + Wheelbase + Width\n",
      "\n",
      "             Df Sum of Sq    RSS    AIC\n",
      "<none>                    2415.7 285.41\n",
      "+ Uturn       1     27.07 2388.6 286.48\n",
      "+ Luggage     1     15.01 2400.7 286.90\n",
      "+ Length      1      0.62 2415.1 287.39\n",
      "- Width       1    476.86 2892.5 298.18\n",
      "- Wheelbase   1    605.46 3021.1 301.75\n",
      "- Horsepower  1   2402.21 4817.9 340.02\n"
     ]
    }
   ],
   "source": [
    "model.bi <- step(lm(MidrangePrice ~ Horsepower+Length+Luggage+Uturn+Wheelbase+Width, data = cars.df),\n",
    "direction = \"both\")"
   ]
  },
  {
   "cell_type": "markdown",
   "metadata": {},
   "source": [
    "The model generated by the Bidirectional variable selection method is given as:\n",
    "\n",
    "*MidrangePrice ~ Horsepower + Wheelbase + Width*\n"
   ]
  },
  {
   "cell_type": "markdown",
   "metadata": {},
   "source": [
    "The forward selection technique is preferable over the backward selection technique because the forward selection technique does not have any restriction. Backward selection technique is valid in cases where the number of observations is greater than the number of variables whereas the forward selection technique can be used in any situation."
   ]
  }
 ],
 "metadata": {
  "kernelspec": {
   "display_name": "R",
   "language": "R",
   "name": "ir"
  },
  "language_info": {
   "codemirror_mode": "r",
   "file_extension": ".r",
   "mimetype": "text/x-r-source",
   "name": "R",
   "pygments_lexer": "r",
   "version": "3.4.4"
  }
 },
 "nbformat": 4,
 "nbformat_minor": 2
}
